{
 "cells": [
  {
   "cell_type": "markdown",
   "metadata": {},
   "source": [
    "# Nearest Neighbors Lab"
   ]
  },
  {
   "cell_type": "markdown",
   "metadata": {},
   "source": [
    "### Introduction\n",
    "\n",
    "In this lab, you apply nearest neighbors technique to help a taxi company predict the length of their rides.  Imagine that we are hired to consult for LiftOff, a limo and taxi service that is just opening up in NYC.  Liftoff wants it's taxi drivers to target longer rides, as the longer the ride the more money it makes.  LiftOff has the following theory:\n",
    "\n",
    "* the pickup location of a taxi ride can help predict the length of the ride.  \n",
    "\n",
    "\n",
    "\n",
    "LiftOff asks us to do some analysis to write a function that will allow it to **predict the length of a taxi ride for any given location **.\n",
    "\n",
    "Our technique will be the following:\n",
    "  * **Collect** Obtain the data containing all of the taxi information, and only select the attributes of taxi trips that we need \n",
    "  * ** Explore ** Examine the attributes of our data, and plot some of our data on a map\n",
    "  * ** Train ** Write our nearest neighbors formula, and change the number of nearby trips to predict the length of a new trip\n",
    "  * ** Predict ** Use our function to predict trip lengths of new locations"
   ]
  },
  {
   "cell_type": "markdown",
   "metadata": {},
   "source": [
    "### Collect and Explore the data"
   ]
  },
  {
   "cell_type": "markdown",
   "metadata": {},
   "source": [
    "#### Collect the Data"
   ]
  },
  {
   "cell_type": "markdown",
   "metadata": {},
   "source": [
    "Luckily for us, [NYC Open Data](https://opendata.cityofnewyork.us/) collects information about NYC taxi trips and provides this data on [its website](https://data.cityofnewyork.us/Transportation/2014-Yellow-Taxi-Trip-Data/gn7m-em8n)."
   ]
  },
  {
   "cell_type": "markdown",
   "metadata": {},
   "source": [
    "![](./nyc-taxi.png)"
   ]
  },
  {
   "cell_type": "markdown",
   "metadata": {},
   "source": [
    "For your reading pleasure, the data has already been downloaded into the [trips.json](https://github.com/learn-co-curriculum/nearest-neighbors-lab/blob/master/trips.json) file in this lab which you can find here.  We'll use Python's `json` library to take the data from the `trips.json` file and store it as a variable in our notebook."
   ]
  },
  {
   "cell_type": "code",
   "execution_count": 1,
   "metadata": {},
   "outputs": [],
   "source": [
    "import json\n",
    "# First, read the file\n",
    "trips_file = open('trips.json')\n",
    "# Then, convert contents to list of dictionaries \n",
    "trips = json.load(trips_file)"
   ]
  },
  {
   "cell_type": "markdown",
   "metadata": {},
   "source": [
    "> Press shift + enter"
   ]
  },
  {
   "cell_type": "markdown",
   "metadata": {},
   "source": [
    "#### Explore the data"
   ]
  },
  {
   "cell_type": "markdown",
   "metadata": {},
   "source": [
    "The next step is to explore the data.  First, let's see how many trips we have."
   ]
  },
  {
   "cell_type": "code",
   "execution_count": 2,
   "metadata": {},
   "outputs": [
    {
     "data": {
      "text/plain": [
       "1000"
      ]
     },
     "execution_count": 2,
     "metadata": {},
     "output_type": "execute_result"
    }
   ],
   "source": [
    "len(trips)"
   ]
  },
  {
   "cell_type": "markdown",
   "metadata": {},
   "source": [
    "Not bad at all.  Now let's see what each individual trip looks like.  Each trip is a dictionary, so we can see the attributes of each trip with the `keys` function."
   ]
  },
  {
   "cell_type": "code",
   "execution_count": 3,
   "metadata": {
    "scrolled": true
   },
   "outputs": [
    {
     "data": {
      "text/plain": [
       "dict_keys(['dropoff_datetime', 'dropoff_latitude', 'dropoff_longitude', 'fare_amount', 'imp_surcharge', 'mta_tax', 'passenger_count', 'payment_type', 'pickup_datetime', 'pickup_latitude', 'pickup_longitude', 'rate_code', 'tip_amount', 'tolls_amount', 'total_amount', 'trip_distance', 'vendor_id'])"
      ]
     },
     "execution_count": 3,
     "metadata": {},
     "output_type": "execute_result"
    }
   ],
   "source": [
    "trips[0].keys()"
   ]
  },
  {
   "cell_type": "markdown",
   "metadata": {},
   "source": [
    "#### Limit our data"
   ]
  },
  {
   "cell_type": "markdown",
   "metadata": {},
   "source": [
    "Ok, now that we have explored some of our data, let's begin to think through what data is relevant for our task."
   ]
  },
  {
   "cell_type": "markdown",
   "metadata": {
    "collapsed": true
   },
   "source": [
    "Remember that our task is to **use the trip location to predict the length of a trip**.  So let's select the `pickup_latitude`, `pickup_longitude`, and `trip_distance` from each trip.  That will give us the trip location and related `trip_distance` for each trip.  Then based on these **actual** trip distances we can use nearest neighbors to predict an **expected** trip distance for a trip, provided an **actual** location."
   ]
  },
  {
   "cell_type": "markdown",
   "metadata": {},
   "source": [
    "** Add in about trip distance ** "
   ]
  },
  {
   "cell_type": "markdown",
   "metadata": {},
   "source": [
    "Write a function called `parse_trips(trips)` that returns a list of the trips with only the following attributes: \n",
    "* `trip_distance`\n",
    "* `pickup_latitude`\n",
    "* `pickup_longitude`"
   ]
  },
  {
   "cell_type": "code",
   "execution_count": 15,
   "metadata": {},
   "outputs": [],
   "source": [
    "def parse_trips(trips):\n",
    "    parsed=[]\n",
    "    for trip in trips:\n",
    "        parsed.append({'pickup_latitude':trip['pickup_latitude'],'pickup_longitude':trip['pickup_longitude'],'trip_distance':trip['trip_distance'] })\n",
    "    return parsed\n",
    "        "
   ]
  },
  {
   "cell_type": "code",
   "execution_count": 80,
   "metadata": {},
   "outputs": [
    {
     "data": {
      "text/plain": [
       "{'pickup_latitude': '40.64499',\n",
       " 'pickup_longitude': '-73.781149999999997',\n",
       " 'trip_distance': '18.379999999999999'}"
      ]
     },
     "execution_count": 80,
     "metadata": {},
     "output_type": "execute_result"
    }
   ],
   "source": [
    "parsed_trips = parse_trips(trips)\n",
    "parsed_trips and parsed_trips[0]\n",
    "\n",
    "# {'pickup_latitude': '40.64499',\n",
    "#  'pickup_longitude': '-73.78115',\n",
    "#  'trip_distance': '18.38'}"
   ]
  },
  {
   "cell_type": "markdown",
   "metadata": {},
   "source": [
    "Now, there's just one change to make.  If you look at one of the trips, all of the values are strings.  Let's change them to be floats."
   ]
  },
  {
   "cell_type": "code",
   "execution_count": 28,
   "metadata": {},
   "outputs": [],
   "source": [
    "def float_values(trips): \n",
    "    clean=[]\n",
    "    for trip in trips:\n",
    "        clean.append({'pickup_latitude':float(trip['pickup_latitude']),'pickup_longitude':float(trip['pickup_longitude']),'trip_distance':float(trip['trip_distance']) })\n",
    "    return clean"
   ]
  },
  {
   "cell_type": "code",
   "execution_count": 29,
   "metadata": {},
   "outputs": [],
   "source": [
    "cleaned_trips = float_values(parsed_trips)"
   ]
  },
  {
   "cell_type": "code",
   "execution_count": 30,
   "metadata": {},
   "outputs": [
    {
     "data": {
      "text/plain": [
       "{'pickup_latitude': 40.64499,\n",
       " 'pickup_longitude': -73.78115,\n",
       " 'trip_distance': 18.38}"
      ]
     },
     "execution_count": 30,
     "metadata": {},
     "output_type": "execute_result"
    }
   ],
   "source": [
    "cleaned_trips[0]\n",
    "\n",
    "# {'pickup_latitude': 40.64499,\n",
    "#  'pickup_longitude': -73.78115,\n",
    "#  'trip_distance': 18.38}"
   ]
  },
  {
   "cell_type": "markdown",
   "metadata": {},
   "source": [
    "### Exploring the Data"
   ]
  },
  {
   "cell_type": "markdown",
   "metadata": {},
   "source": [
    "Now that we have paired down our data, let's get a sense of our trip data.  We can use the `folium` Python library to plot a map of Manhattan, and our data.  First we must import `folium`, and then use the `Map` function to pass through a `location`, and `zoom_start`.  If a map isn't showing up below, copy and paste the command `pip install -r requirements.txt` into your terminal to install `folium` then try again."
   ]
  },
  {
   "cell_type": "code",
   "execution_count": 31,
   "metadata": {},
   "outputs": [],
   "source": [
    "import folium\n",
    "manhattan_map = folium.Map(location=[40.7589, -73.9851], zoom_start=11)"
   ]
  },
  {
   "cell_type": "code",
   "execution_count": 32,
   "metadata": {
    "scrolled": true
   },
   "outputs": [
    {
     "data": {
      "text/html": [
       "<div style=\"width:100%;\"><div style=\"position:relative;width:100%;height:0;padding-bottom:60%;\"><iframe src=\"data:text/html;charset=utf-8;base64,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\" style=\"position:absolute;width:100%;height:100%;left:0;top:0;border:none !important;\" allowfullscreen webkitallowfullscreen mozallowfullscreen></iframe></div></div>"
      ],
      "text/plain": [
       "<folium.folium.Map at 0x7f112c225438>"
      ]
     },
     "execution_count": 32,
     "metadata": {},
     "output_type": "execute_result"
    }
   ],
   "source": [
    "manhattan_map"
   ]
  },
  {
   "cell_type": "markdown",
   "metadata": {},
   "source": [
    "Ok, now let's see how we could add a dot to mark a specific location.  We'll start with Times Square."
   ]
  },
  {
   "cell_type": "code",
   "execution_count": 34,
   "metadata": {},
   "outputs": [
    {
     "data": {
      "text/plain": [
       "<folium.vector_layers.CircleMarker at 0x7f10fbd4ab00>"
      ]
     },
     "execution_count": 34,
     "metadata": {},
     "output_type": "execute_result"
    }
   ],
   "source": [
    "marker = folium.CircleMarker(location = [40.7589, -73.9851], radius=10)\n",
    "marker.add_to(manhattan_map)"
   ]
  },
  {
   "cell_type": "markdown",
   "metadata": {},
   "source": [
    "Above, we first create a marker.  Then we add that circle marker to the `manhattan_map` we created earlier. "
   ]
  },
  {
   "cell_type": "code",
   "execution_count": 35,
   "metadata": {
    "scrolled": false
   },
   "outputs": [
    {
     "data": {
      "text/html": [
       "<div style=\"width:100%;\"><div style=\"position:relative;width:100%;height:0;padding-bottom:60%;\"><iframe src=\"data:text/html;charset=utf-8;base64,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\" style=\"position:absolute;width:100%;height:100%;left:0;top:0;border:none !important;\" allowfullscreen webkitallowfullscreen mozallowfullscreen></iframe></div></div>"
      ],
      "text/plain": [
       "<folium.folium.Map at 0x7f112c225438>"
      ]
     },
     "execution_count": 35,
     "metadata": {},
     "output_type": "execute_result"
    }
   ],
   "source": [
    "manhattan_map"
   ]
  },
  {
   "cell_type": "markdown",
   "metadata": {},
   "source": [
    "Do you see that blue dot near Time's Square?  That is our marker.  \n",
    "\n",
    "So now that we can plot one marker on a map, we should have a sense of how we can plot many markers on a map to display our taxi ride data.  We simply plot a map, and then we add a marker for each location of a taxi trip.\n",
    "\n",
    "Now let's write some functions to allow us to plot maps and add markers a little more easily.  "
   ]
  },
  {
   "cell_type": "markdown",
   "metadata": {},
   "source": [
    "#### Writing some map plotting functions"
   ]
  },
  {
   "cell_type": "markdown",
   "metadata": {},
   "source": [
    "As a first step towards this, note that the functions to create both a marker and map each take in a location as two element list, representing the latitude and longitude values.  Take another look:\n",
    "\n",
    "```python\n",
    "marker = folium.CircleMarker(location = [40.7589, -73.9851])\n",
    "manhattan_map = folium.Map(location=[40.7589, -73.9851])\n",
    "```\n",
    "\n",
    "So let's write a function called to create this two element list from a trip.  Write a function called `location` that  takes in a trip as an argument and returns a list where the first element is the latitude and the second is the longitude.  Remember that a location looks like the following:"
   ]
  },
  {
   "cell_type": "code",
   "execution_count": 36,
   "metadata": {},
   "outputs": [
    {
     "data": {
      "text/plain": [
       "{'pickup_latitude': 40.64499,\n",
       " 'pickup_longitude': -73.78115,\n",
       " 'trip_distance': 18.38}"
      ]
     },
     "execution_count": 36,
     "metadata": {},
     "output_type": "execute_result"
    }
   ],
   "source": [
    "first_trip = {'pickup_latitude': 40.64499, 'pickup_longitude': -73.78115,  'trip_distance': 18.38}\n",
    "first_trip"
   ]
  },
  {
   "cell_type": "code",
   "execution_count": 57,
   "metadata": {},
   "outputs": [],
   "source": [
    "def location(trip):\n",
    "    loc=[]\n",
    "    loc.append(trip['pickup_latitude'])\n",
    "    loc.append(trip['pickup_longitude'])\n",
    "    return loc"
   ]
  },
  {
   "cell_type": "code",
   "execution_count": 58,
   "metadata": {},
   "outputs": [
    {
     "data": {
      "text/plain": [
       "[40.64499, -73.78115]"
      ]
     },
     "execution_count": 58,
     "metadata": {},
     "output_type": "execute_result"
    }
   ],
   "source": [
    "first_location = location(first_trip) # [40.64499, -73.78115]\n",
    "first_location # [40.64499, -73.78115]"
   ]
  },
  {
   "cell_type": "raw",
   "metadata": {},
   "source": [
    "Ok, now that we can turn a trip into a location, let's turn a location into a marker.  Write a function called `to_marker` that takes in a location (in the form of a list) as an argument, and returns a folium `circleMarker` for that location.  The radius of the marker should always equal 6."
   ]
  },
  {
   "cell_type": "raw",
   "metadata": {},
   "source": [
    "\n",
    "\n",
    "    "
   ]
  },
  {
   "cell_type": "code",
   "execution_count": 73,
   "metadata": {},
   "outputs": [],
   "source": [
    "def to_marker(location):\n",
    "    return folium.CircleMarker(location , radius=6)"
   ]
  },
  {
   "cell_type": "code",
   "execution_count": 75,
   "metadata": {},
   "outputs": [
    {
     "data": {
      "text/plain": [
       "6"
      ]
     },
     "execution_count": 75,
     "metadata": {},
     "output_type": "execute_result"
    }
   ],
   "source": [
    "import json\n",
    "times_square_marker = to_marker([40.7589, -73.9851])\n",
    "\n",
    "times_square_marker and times_square_marker.location # [40.7589, -73.9851]\n",
    "times_square_marker and json.loads(str(times_square_marker.options['radius'])) # 6"
   ]
  },
  {
   "cell_type": "markdown",
   "metadata": {},
   "source": [
    "Ok, now that we know how to produce a single marker, let's write a function to produce lots.  We can write a function called `markers_from_trips` that takes in a list of trips, and returns a marker object for each trip.  "
   ]
  },
  {
   "cell_type": "code",
   "execution_count": 85,
   "metadata": {},
   "outputs": [],
   "source": [
    "def markers_from_trips(trips):\n",
    "    locations = list(map(lambda trip: location(trip), trips))\n",
    "    return list(map(lambda location: to_marker(location),locations))"
   ]
  },
  {
   "cell_type": "code",
   "execution_count": 86,
   "metadata": {},
   "outputs": [],
   "source": [
    "trip_markers = markers_from_trips(cleaned_trips)"
   ]
  },
  {
   "cell_type": "code",
   "execution_count": 87,
   "metadata": {},
   "outputs": [
    {
     "data": {
      "text/plain": [
       "[{'pickup_latitude': 40.64499,\n",
       "  'pickup_longitude': -73.78115,\n",
       "  'trip_distance': 18.38},\n",
       " {'pickup_latitude': 40.766931,\n",
       "  'pickup_longitude': -73.982098,\n",
       "  'trip_distance': 1.3},\n",
       " {'pickup_latitude': 40.77773,\n",
       "  'pickup_longitude': -73.951902,\n",
       "  'trip_distance': 4.5},\n",
       " {'pickup_latitude': 40.795678,\n",
       "  'pickup_longitude': -73.971049,\n",
       "  'trip_distance': 2.4}]"
      ]
     },
     "execution_count": 87,
     "metadata": {},
     "output_type": "execute_result"
    }
   ],
   "source": [
    "cleaned_trips[0:4]"
   ]
  },
  {
   "cell_type": "code",
   "execution_count": 91,
   "metadata": {},
   "outputs": [
    {
     "data": {
      "text/plain": [
       "[<folium.vector_layers.CircleMarker at 0x7f10fbd4a278>,\n",
       " <folium.vector_layers.CircleMarker at 0x7f10fbd4a518>,\n",
       " <folium.vector_layers.CircleMarker at 0x7f10fbd4a9e8>,\n",
       " <folium.vector_layers.CircleMarker at 0x7f10fbd4a240>,\n",
       " <folium.vector_layers.CircleMarker at 0x7f10fbd4aa58>,\n",
       " <folium.vector_layers.CircleMarker at 0x7f10fbc18080>,\n",
       " <folium.vector_layers.CircleMarker at 0x7f10fbc180b8>,\n",
       " <folium.vector_layers.CircleMarker at 0x7f10fbc180f0>,\n",
       " <folium.vector_layers.CircleMarker at 0x7f10fbc18128>,\n",
       " <folium.vector_layers.CircleMarker at 0x7f10fbc18160>,\n",
       " <folium.vector_layers.CircleMarker at 0x7f10fbc18198>,\n",
       " <folium.vector_layers.CircleMarker at 0x7f10fbc181d0>,\n",
       " <folium.vector_layers.CircleMarker at 0x7f10fbc18208>,\n",
       " <folium.vector_layers.CircleMarker at 0x7f10fbc18240>,\n",
       " <folium.vector_layers.CircleMarker at 0x7f10fbc18278>,\n",
       " <folium.vector_layers.CircleMarker at 0x7f10fbc182b0>,\n",
       " <folium.vector_layers.CircleMarker at 0x7f10fbc182e8>,\n",
       " <folium.vector_layers.CircleMarker at 0x7f10fbc18320>,\n",
       " <folium.vector_layers.CircleMarker at 0x7f10fbc18358>,\n",
       " <folium.vector_layers.CircleMarker at 0x7f10fbc18390>,\n",
       " <folium.vector_layers.CircleMarker at 0x7f10fbc183c8>,\n",
       " <folium.vector_layers.CircleMarker at 0x7f10fbc18400>,\n",
       " <folium.vector_layers.CircleMarker at 0x7f10fbc18438>,\n",
       " <folium.vector_layers.CircleMarker at 0x7f10fbc18470>,\n",
       " <folium.vector_layers.CircleMarker at 0x7f10fbc184a8>,\n",
       " <folium.vector_layers.CircleMarker at 0x7f10fbc184e0>,\n",
       " <folium.vector_layers.CircleMarker at 0x7f10fbc18518>,\n",
       " <folium.vector_layers.CircleMarker at 0x7f10fbc18550>,\n",
       " <folium.vector_layers.CircleMarker at 0x7f10fbc18588>,\n",
       " <folium.vector_layers.CircleMarker at 0x7f10fbc185c0>,\n",
       " <folium.vector_layers.CircleMarker at 0x7f10fbc185f8>,\n",
       " <folium.vector_layers.CircleMarker at 0x7f10fbc18630>,\n",
       " <folium.vector_layers.CircleMarker at 0x7f10fbc18668>,\n",
       " <folium.vector_layers.CircleMarker at 0x7f10fbc186a0>,\n",
       " <folium.vector_layers.CircleMarker at 0x7f10fbc186d8>,\n",
       " <folium.vector_layers.CircleMarker at 0x7f10fbc18710>,\n",
       " <folium.vector_layers.CircleMarker at 0x7f10fbc18748>,\n",
       " <folium.vector_layers.CircleMarker at 0x7f10fbc18780>,\n",
       " <folium.vector_layers.CircleMarker at 0x7f10fbc187b8>,\n",
       " <folium.vector_layers.CircleMarker at 0x7f10fbc187f0>,\n",
       " <folium.vector_layers.CircleMarker at 0x7f10fbc18828>,\n",
       " <folium.vector_layers.CircleMarker at 0x7f10fbc18860>,\n",
       " <folium.vector_layers.CircleMarker at 0x7f10fbc18898>,\n",
       " <folium.vector_layers.CircleMarker at 0x7f10fbc188d0>,\n",
       " <folium.vector_layers.CircleMarker at 0x7f10fbc18908>,\n",
       " <folium.vector_layers.CircleMarker at 0x7f10fbc18940>,\n",
       " <folium.vector_layers.CircleMarker at 0x7f10fbc18978>,\n",
       " <folium.vector_layers.CircleMarker at 0x7f10fbc189b0>,\n",
       " <folium.vector_layers.CircleMarker at 0x7f10fbc189e8>,\n",
       " <folium.vector_layers.CircleMarker at 0x7f10fbc18a20>,\n",
       " <folium.vector_layers.CircleMarker at 0x7f10fbc18a58>,\n",
       " <folium.vector_layers.CircleMarker at 0x7f10fbc18a90>,\n",
       " <folium.vector_layers.CircleMarker at 0x7f112d5f9828>,\n",
       " <folium.vector_layers.CircleMarker at 0x7f10fbc18ac8>,\n",
       " <folium.vector_layers.CircleMarker at 0x7f10fbd4a198>,\n",
       " <folium.vector_layers.CircleMarker at 0x7f10fbc18b38>,\n",
       " <folium.vector_layers.CircleMarker at 0x7f10fbc18b70>,\n",
       " <folium.vector_layers.CircleMarker at 0x7f10fbc18ba8>,\n",
       " <folium.vector_layers.CircleMarker at 0x7f10fbc18be0>,\n",
       " <folium.vector_layers.CircleMarker at 0x7f10fbc18c18>,\n",
       " <folium.vector_layers.CircleMarker at 0x7f10fbc18c50>,\n",
       " <folium.vector_layers.CircleMarker at 0x7f10fbc18c88>,\n",
       " <folium.vector_layers.CircleMarker at 0x7f10fbc18cc0>,\n",
       " <folium.vector_layers.CircleMarker at 0x7f10fbc18cf8>,\n",
       " <folium.vector_layers.CircleMarker at 0x7f10fbc18d30>,\n",
       " <folium.vector_layers.CircleMarker at 0x7f10fbc18d68>,\n",
       " <folium.vector_layers.CircleMarker at 0x7f10fbc18da0>,\n",
       " <folium.vector_layers.CircleMarker at 0x7f10fbc18dd8>,\n",
       " <folium.vector_layers.CircleMarker at 0x7f10fbc18e10>,\n",
       " <folium.vector_layers.CircleMarker at 0x7f10fbc18e48>,\n",
       " <folium.vector_layers.CircleMarker at 0x7f10fbc18e80>,\n",
       " <folium.vector_layers.CircleMarker at 0x7f10fbc18eb8>,\n",
       " <folium.vector_layers.CircleMarker at 0x7f10fbc18ef0>,\n",
       " <folium.vector_layers.CircleMarker at 0x7f10fbc18f28>,\n",
       " <folium.vector_layers.CircleMarker at 0x7f10fbc18f60>,\n",
       " <folium.vector_layers.CircleMarker at 0x7f10fbc18f98>,\n",
       " <folium.vector_layers.CircleMarker at 0x7f10fbc18fd0>,\n",
       " <folium.vector_layers.CircleMarker at 0x7f10fbc18048>,\n",
       " <folium.vector_layers.CircleMarker at 0x7f10fbc26080>,\n",
       " <folium.vector_layers.CircleMarker at 0x7f10fbc260b8>,\n",
       " <folium.vector_layers.CircleMarker at 0x7f10fbc260f0>,\n",
       " <folium.vector_layers.CircleMarker at 0x7f10fbc26128>,\n",
       " <folium.vector_layers.CircleMarker at 0x7f10fbc26160>,\n",
       " <folium.vector_layers.CircleMarker at 0x7f10fbc26198>,\n",
       " <folium.vector_layers.CircleMarker at 0x7f10fbc261d0>,\n",
       " <folium.vector_layers.CircleMarker at 0x7f10fbc26208>,\n",
       " <folium.vector_layers.CircleMarker at 0x7f10fbc26240>,\n",
       " <folium.vector_layers.CircleMarker at 0x7f10fbc26278>,\n",
       " <folium.vector_layers.CircleMarker at 0x7f10fbc262b0>,\n",
       " <folium.vector_layers.CircleMarker at 0x7f10fbc262e8>,\n",
       " <folium.vector_layers.CircleMarker at 0x7f10fbc26320>,\n",
       " <folium.vector_layers.CircleMarker at 0x7f10fbc26358>,\n",
       " <folium.vector_layers.CircleMarker at 0x7f10fbc26390>,\n",
       " <folium.vector_layers.CircleMarker at 0x7f10fbc263c8>,\n",
       " <folium.vector_layers.CircleMarker at 0x7f10fbc26400>,\n",
       " <folium.vector_layers.CircleMarker at 0x7f10fbc26438>,\n",
       " <folium.vector_layers.CircleMarker at 0x7f10fbc26470>,\n",
       " <folium.vector_layers.CircleMarker at 0x7f10fbc264a8>,\n",
       " <folium.vector_layers.CircleMarker at 0x7f10fbc264e0>,\n",
       " <folium.vector_layers.CircleMarker at 0x7f10fbc26518>,\n",
       " <folium.vector_layers.CircleMarker at 0x7f10fbc26550>,\n",
       " <folium.vector_layers.CircleMarker at 0x7f10fbc26588>,\n",
       " <folium.vector_layers.CircleMarker at 0x7f10fbc265c0>,\n",
       " <folium.vector_layers.CircleMarker at 0x7f10fbc265f8>,\n",
       " <folium.vector_layers.CircleMarker at 0x7f10fbc26630>,\n",
       " <folium.vector_layers.CircleMarker at 0x7f10fbc26668>,\n",
       " <folium.vector_layers.CircleMarker at 0x7f10fbc266a0>,\n",
       " <folium.vector_layers.CircleMarker at 0x7f10fbc266d8>,\n",
       " <folium.vector_layers.CircleMarker at 0x7f10fbc26710>,\n",
       " <folium.vector_layers.CircleMarker at 0x7f10fbc26748>,\n",
       " <folium.vector_layers.CircleMarker at 0x7f10fbc26780>,\n",
       " <folium.vector_layers.CircleMarker at 0x7f10fbc267b8>,\n",
       " <folium.vector_layers.CircleMarker at 0x7f10fbc267f0>,\n",
       " <folium.vector_layers.CircleMarker at 0x7f10fbc26828>,\n",
       " <folium.vector_layers.CircleMarker at 0x7f10fbc26860>,\n",
       " <folium.vector_layers.CircleMarker at 0x7f10fbc26898>,\n",
       " <folium.vector_layers.CircleMarker at 0x7f10fbc268d0>,\n",
       " <folium.vector_layers.CircleMarker at 0x7f10fbc26908>,\n",
       " <folium.vector_layers.CircleMarker at 0x7f10fbc26940>,\n",
       " <folium.vector_layers.CircleMarker at 0x7f10fbc26978>,\n",
       " <folium.vector_layers.CircleMarker at 0x7f10fbc269b0>,\n",
       " <folium.vector_layers.CircleMarker at 0x7f10fbc269e8>,\n",
       " <folium.vector_layers.CircleMarker at 0x7f10fbc26a20>,\n",
       " <folium.vector_layers.CircleMarker at 0x7f10fbc26a58>,\n",
       " <folium.vector_layers.CircleMarker at 0x7f10fbc26a90>,\n",
       " <folium.vector_layers.CircleMarker at 0x7f10fbc26ac8>,\n",
       " <folium.vector_layers.CircleMarker at 0x7f10fbc26b00>,\n",
       " <folium.vector_layers.CircleMarker at 0x7f10fbc26b38>,\n",
       " <folium.vector_layers.CircleMarker at 0x7f10fbc26b70>,\n",
       " <folium.vector_layers.CircleMarker at 0x7f10fbc26ba8>,\n",
       " <folium.vector_layers.CircleMarker at 0x7f10fbc26be0>,\n",
       " <folium.vector_layers.CircleMarker at 0x7f10fbc26c18>,\n",
       " <folium.vector_layers.CircleMarker at 0x7f10fbc26c50>,\n",
       " <folium.vector_layers.CircleMarker at 0x7f10fbc26c88>,\n",
       " <folium.vector_layers.CircleMarker at 0x7f10fbc26cc0>,\n",
       " <folium.vector_layers.CircleMarker at 0x7f10fbc26cf8>,\n",
       " <folium.vector_layers.CircleMarker at 0x7f10fbc26d30>,\n",
       " <folium.vector_layers.CircleMarker at 0x7f10fbc26d68>,\n",
       " <folium.vector_layers.CircleMarker at 0x7f10fbc26da0>,\n",
       " <folium.vector_layers.CircleMarker at 0x7f10fbc26dd8>,\n",
       " <folium.vector_layers.CircleMarker at 0x7f10fbc26e10>,\n",
       " <folium.vector_layers.CircleMarker at 0x7f10fbc26e48>,\n",
       " <folium.vector_layers.CircleMarker at 0x7f10fbc26e80>,\n",
       " <folium.vector_layers.CircleMarker at 0x7f10fbc26eb8>,\n",
       " <folium.vector_layers.CircleMarker at 0x7f10fbc26ef0>,\n",
       " <folium.vector_layers.CircleMarker at 0x7f10fbc26f28>,\n",
       " <folium.vector_layers.CircleMarker at 0x7f10fbc26f60>,\n",
       " <folium.vector_layers.CircleMarker at 0x7f10fbc26f98>,\n",
       " <folium.vector_layers.CircleMarker at 0x7f10fbc26fd0>,\n",
       " <folium.vector_layers.CircleMarker at 0x7f10fbc26048>,\n",
       " <folium.vector_layers.CircleMarker at 0x7f10fbc32080>,\n",
       " <folium.vector_layers.CircleMarker at 0x7f10fbc320b8>,\n",
       " <folium.vector_layers.CircleMarker at 0x7f10fbc320f0>,\n",
       " <folium.vector_layers.CircleMarker at 0x7f10fbc32128>,\n",
       " <folium.vector_layers.CircleMarker at 0x7f10fbc32160>,\n",
       " <folium.vector_layers.CircleMarker at 0x7f10fbc32198>,\n",
       " <folium.vector_layers.CircleMarker at 0x7f10fbc321d0>,\n",
       " <folium.vector_layers.CircleMarker at 0x7f10fbc32208>,\n",
       " <folium.vector_layers.CircleMarker at 0x7f10fbc32240>,\n",
       " <folium.vector_layers.CircleMarker at 0x7f10fbc32278>,\n",
       " <folium.vector_layers.CircleMarker at 0x7f10fbc322b0>,\n",
       " <folium.vector_layers.CircleMarker at 0x7f10fbc322e8>,\n",
       " <folium.vector_layers.CircleMarker at 0x7f10fbc32320>,\n",
       " <folium.vector_layers.CircleMarker at 0x7f10fbc32358>,\n",
       " <folium.vector_layers.CircleMarker at 0x7f10fbc32390>,\n",
       " <folium.vector_layers.CircleMarker at 0x7f10fbc323c8>,\n",
       " <folium.vector_layers.CircleMarker at 0x7f10fbc32400>,\n",
       " <folium.vector_layers.CircleMarker at 0x7f10fbc32438>,\n",
       " <folium.vector_layers.CircleMarker at 0x7f10fbc32470>,\n",
       " <folium.vector_layers.CircleMarker at 0x7f10fbc324a8>,\n",
       " <folium.vector_layers.CircleMarker at 0x7f10fbc324e0>,\n",
       " <folium.vector_layers.CircleMarker at 0x7f10fbc32518>,\n",
       " <folium.vector_layers.CircleMarker at 0x7f10fbc32550>,\n",
       " <folium.vector_layers.CircleMarker at 0x7f10fbc32588>,\n",
       " <folium.vector_layers.CircleMarker at 0x7f10fbd4a828>,\n",
       " <folium.vector_layers.CircleMarker at 0x7f10fbd4ad30>,\n",
       " <folium.vector_layers.CircleMarker at 0x7f10fbc325c0>,\n",
       " <folium.vector_layers.CircleMarker at 0x7f10fbc325f8>,\n",
       " <folium.vector_layers.CircleMarker at 0x7f10fbc32630>,\n",
       " <folium.vector_layers.CircleMarker at 0x7f10fbc32668>,\n",
       " <folium.vector_layers.CircleMarker at 0x7f10fbc326a0>,\n",
       " <folium.vector_layers.CircleMarker at 0x7f10fbc326d8>,\n",
       " <folium.vector_layers.CircleMarker at 0x7f10fbc32710>,\n",
       " <folium.vector_layers.CircleMarker at 0x7f10fbc32748>,\n",
       " <folium.vector_layers.CircleMarker at 0x7f10fbc32780>,\n",
       " <folium.vector_layers.CircleMarker at 0x7f10fbc327b8>,\n",
       " <folium.vector_layers.CircleMarker at 0x7f10fbc327f0>,\n",
       " <folium.vector_layers.CircleMarker at 0x7f10fbc32828>,\n",
       " <folium.vector_layers.CircleMarker at 0x7f10fbc32860>,\n",
       " <folium.vector_layers.CircleMarker at 0x7f10fbc32898>,\n",
       " <folium.vector_layers.CircleMarker at 0x7f10fbc328d0>,\n",
       " <folium.vector_layers.CircleMarker at 0x7f10fbc32908>,\n",
       " <folium.vector_layers.CircleMarker at 0x7f10fbc32940>,\n",
       " <folium.vector_layers.CircleMarker at 0x7f10fbc32978>,\n",
       " <folium.vector_layers.CircleMarker at 0x7f10fbc329b0>,\n",
       " <folium.vector_layers.CircleMarker at 0x7f10fbc329e8>,\n",
       " <folium.vector_layers.CircleMarker at 0x7f10fbc32a20>,\n",
       " <folium.vector_layers.CircleMarker at 0x7f10fbc32a58>,\n",
       " <folium.vector_layers.CircleMarker at 0x7f10fbc32a90>,\n",
       " <folium.vector_layers.CircleMarker at 0x7f10fbc32ac8>,\n",
       " <folium.vector_layers.CircleMarker at 0x7f10fbc32b00>,\n",
       " <folium.vector_layers.CircleMarker at 0x7f10fbc32b38>,\n",
       " <folium.vector_layers.CircleMarker at 0x7f10fbc32b70>,\n",
       " <folium.vector_layers.CircleMarker at 0x7f10fbc32ba8>,\n",
       " <folium.vector_layers.CircleMarker at 0x7f10fbc32be0>,\n",
       " <folium.vector_layers.CircleMarker at 0x7f10fbc32c18>,\n",
       " <folium.vector_layers.CircleMarker at 0x7f10fbc32c50>,\n",
       " <folium.vector_layers.CircleMarker at 0x7f10fbc32c88>,\n",
       " <folium.vector_layers.CircleMarker at 0x7f10fbc32cc0>,\n",
       " <folium.vector_layers.CircleMarker at 0x7f10fbc32cf8>,\n",
       " <folium.vector_layers.CircleMarker at 0x7f10fbc32d30>,\n",
       " <folium.vector_layers.CircleMarker at 0x7f10fbc32d68>,\n",
       " <folium.vector_layers.CircleMarker at 0x7f10fbc32da0>,\n",
       " <folium.vector_layers.CircleMarker at 0x7f10fbc32dd8>,\n",
       " <folium.vector_layers.CircleMarker at 0x7f10fbc32e10>,\n",
       " <folium.vector_layers.CircleMarker at 0x7f10fbc32e48>,\n",
       " <folium.vector_layers.CircleMarker at 0x7f10fbc32e80>,\n",
       " <folium.vector_layers.CircleMarker at 0x7f10fbc32eb8>,\n",
       " <folium.vector_layers.CircleMarker at 0x7f10fbc32ef0>,\n",
       " <folium.vector_layers.CircleMarker at 0x7f10fbc32f28>,\n",
       " <folium.vector_layers.CircleMarker at 0x7f10fbc32f60>,\n",
       " <folium.vector_layers.CircleMarker at 0x7f10fbc32f98>,\n",
       " <folium.vector_layers.CircleMarker at 0x7f10fbc32fd0>,\n",
       " <folium.vector_layers.CircleMarker at 0x7f10fbc32048>,\n",
       " <folium.vector_layers.CircleMarker at 0x7f10fbc42080>,\n",
       " <folium.vector_layers.CircleMarker at 0x7f10fbc420b8>,\n",
       " <folium.vector_layers.CircleMarker at 0x7f10fbc420f0>,\n",
       " <folium.vector_layers.CircleMarker at 0x7f10fbc42128>,\n",
       " <folium.vector_layers.CircleMarker at 0x7f10fbc42160>,\n",
       " <folium.vector_layers.CircleMarker at 0x7f10fbc42198>,\n",
       " <folium.vector_layers.CircleMarker at 0x7f10fbc421d0>,\n",
       " <folium.vector_layers.CircleMarker at 0x7f10fbc42208>,\n",
       " <folium.vector_layers.CircleMarker at 0x7f10fbc42240>,\n",
       " <folium.vector_layers.CircleMarker at 0x7f10fbc42278>,\n",
       " <folium.vector_layers.CircleMarker at 0x7f10fbc422b0>,\n",
       " <folium.vector_layers.CircleMarker at 0x7f10fbc422e8>,\n",
       " <folium.vector_layers.CircleMarker at 0x7f10fbc42320>,\n",
       " <folium.vector_layers.CircleMarker at 0x7f10fbc42358>,\n",
       " <folium.vector_layers.CircleMarker at 0x7f10fbc42390>,\n",
       " <folium.vector_layers.CircleMarker at 0x7f10fbc423c8>,\n",
       " <folium.vector_layers.CircleMarker at 0x7f10fbc42400>,\n",
       " <folium.vector_layers.CircleMarker at 0x7f10fbc42438>,\n",
       " <folium.vector_layers.CircleMarker at 0x7f10fbc42470>,\n",
       " <folium.vector_layers.CircleMarker at 0x7f10fbc424a8>,\n",
       " <folium.vector_layers.CircleMarker at 0x7f10fbc424e0>,\n",
       " <folium.vector_layers.CircleMarker at 0x7f10fbc42518>,\n",
       " <folium.vector_layers.CircleMarker at 0x7f10fbc42550>,\n",
       " <folium.vector_layers.CircleMarker at 0x7f10fbc42588>,\n",
       " <folium.vector_layers.CircleMarker at 0x7f10fbc425c0>,\n",
       " <folium.vector_layers.CircleMarker at 0x7f10fbc425f8>,\n",
       " <folium.vector_layers.CircleMarker at 0x7f10fbc42630>,\n",
       " <folium.vector_layers.CircleMarker at 0x7f10fbc42668>,\n",
       " <folium.vector_layers.CircleMarker at 0x7f10fbc426a0>,\n",
       " <folium.vector_layers.CircleMarker at 0x7f10fbc426d8>,\n",
       " <folium.vector_layers.CircleMarker at 0x7f10fbc42710>,\n",
       " <folium.vector_layers.CircleMarker at 0x7f10fbc42748>,\n",
       " <folium.vector_layers.CircleMarker at 0x7f10fbc42780>,\n",
       " <folium.vector_layers.CircleMarker at 0x7f10fbc427b8>,\n",
       " <folium.vector_layers.CircleMarker at 0x7f10fbc427f0>,\n",
       " <folium.vector_layers.CircleMarker at 0x7f10fbc42828>,\n",
       " <folium.vector_layers.CircleMarker at 0x7f10fbc42860>,\n",
       " <folium.vector_layers.CircleMarker at 0x7f10fbc42898>,\n",
       " <folium.vector_layers.CircleMarker at 0x7f10fbc428d0>,\n",
       " <folium.vector_layers.CircleMarker at 0x7f10fbc42908>,\n",
       " <folium.vector_layers.CircleMarker at 0x7f10fbc42940>,\n",
       " <folium.vector_layers.CircleMarker at 0x7f10fbc42978>,\n",
       " <folium.vector_layers.CircleMarker at 0x7f10fbc429b0>,\n",
       " <folium.vector_layers.CircleMarker at 0x7f10fbc429e8>,\n",
       " <folium.vector_layers.CircleMarker at 0x7f10fbc42a20>,\n",
       " <folium.vector_layers.CircleMarker at 0x7f10fbc42a58>,\n",
       " <folium.vector_layers.CircleMarker at 0x7f10fbc42a90>,\n",
       " <folium.vector_layers.CircleMarker at 0x7f10fbc42ac8>,\n",
       " <folium.vector_layers.CircleMarker at 0x7f10fbc42b00>,\n",
       " <folium.vector_layers.CircleMarker at 0x7f10fbc42b38>,\n",
       " <folium.vector_layers.CircleMarker at 0x7f10fbc42b70>,\n",
       " <folium.vector_layers.CircleMarker at 0x7f10fbc42ba8>,\n",
       " <folium.vector_layers.CircleMarker at 0x7f10fbc42be0>,\n",
       " <folium.vector_layers.CircleMarker at 0x7f10fbc42c18>,\n",
       " <folium.vector_layers.CircleMarker at 0x7f10fbc42c50>,\n",
       " <folium.vector_layers.CircleMarker at 0x7f10fbc42c88>,\n",
       " <folium.vector_layers.CircleMarker at 0x7f10fbc42cc0>,\n",
       " <folium.vector_layers.CircleMarker at 0x7f10fbc42cf8>,\n",
       " <folium.vector_layers.CircleMarker at 0x7f10fbc42d30>,\n",
       " <folium.vector_layers.CircleMarker at 0x7f10fbc42d68>,\n",
       " <folium.vector_layers.CircleMarker at 0x7f10fbc42da0>,\n",
       " <folium.vector_layers.CircleMarker at 0x7f10fbc42dd8>,\n",
       " <folium.vector_layers.CircleMarker at 0x7f10fbc42e10>,\n",
       " <folium.vector_layers.CircleMarker at 0x7f10fbc42e48>,\n",
       " <folium.vector_layers.CircleMarker at 0x7f10fbc42e80>,\n",
       " <folium.vector_layers.CircleMarker at 0x7f10fbc42eb8>,\n",
       " <folium.vector_layers.CircleMarker at 0x7f10fbc42ef0>,\n",
       " <folium.vector_layers.CircleMarker at 0x7f10fbc42f28>,\n",
       " <folium.vector_layers.CircleMarker at 0x7f10fbc42f60>,\n",
       " <folium.vector_layers.CircleMarker at 0x7f10fbc42f98>,\n",
       " <folium.vector_layers.CircleMarker at 0x7f10fbc42fd0>,\n",
       " <folium.vector_layers.CircleMarker at 0x7f10fbc42048>,\n",
       " <folium.vector_layers.CircleMarker at 0x7f10fbbcd080>,\n",
       " <folium.vector_layers.CircleMarker at 0x7f10fbbcd0b8>,\n",
       " <folium.vector_layers.CircleMarker at 0x7f10fbbcd0f0>,\n",
       " <folium.vector_layers.CircleMarker at 0x7f10fbbcd128>,\n",
       " <folium.vector_layers.CircleMarker at 0x7f10fbbcd160>,\n",
       " <folium.vector_layers.CircleMarker at 0x7f10fbbcd198>,\n",
       " <folium.vector_layers.CircleMarker at 0x7f10fbbcd1d0>,\n",
       " <folium.vector_layers.CircleMarker at 0x7f10fbbcd208>,\n",
       " <folium.vector_layers.CircleMarker at 0x7f10fbbcd240>,\n",
       " <folium.vector_layers.CircleMarker at 0x7f10fbbcd278>,\n",
       " <folium.vector_layers.CircleMarker at 0x7f10fbbcd2b0>,\n",
       " <folium.vector_layers.CircleMarker at 0x7f10fbbcd2e8>,\n",
       " <folium.vector_layers.CircleMarker at 0x7f10fbbcd320>,\n",
       " <folium.vector_layers.CircleMarker at 0x7f10fbbcd358>,\n",
       " <folium.vector_layers.CircleMarker at 0x7f10fbbcd390>,\n",
       " <folium.vector_layers.CircleMarker at 0x7f10fbbcd3c8>,\n",
       " <folium.vector_layers.CircleMarker at 0x7f10fbbcd400>,\n",
       " <folium.vector_layers.CircleMarker at 0x7f10fbbcd438>,\n",
       " <folium.vector_layers.CircleMarker at 0x7f10fbbcd470>,\n",
       " <folium.vector_layers.CircleMarker at 0x7f10fbbcd4a8>,\n",
       " <folium.vector_layers.CircleMarker at 0x7f10fbbcd4e0>,\n",
       " <folium.vector_layers.CircleMarker at 0x7f10fbbcd518>,\n",
       " <folium.vector_layers.CircleMarker at 0x7f10fbbcd550>,\n",
       " <folium.vector_layers.CircleMarker at 0x7f10fbbcd588>,\n",
       " <folium.vector_layers.CircleMarker at 0x7f10fbbcd5c0>,\n",
       " <folium.vector_layers.CircleMarker at 0x7f10fbbcd5f8>,\n",
       " <folium.vector_layers.CircleMarker at 0x7f10fbbcd630>,\n",
       " <folium.vector_layers.CircleMarker at 0x7f10fbbcd668>,\n",
       " <folium.vector_layers.CircleMarker at 0x7f10fbbcd6a0>,\n",
       " <folium.vector_layers.CircleMarker at 0x7f10fbbcd6d8>,\n",
       " <folium.vector_layers.CircleMarker at 0x7f10fbbcd710>,\n",
       " <folium.vector_layers.CircleMarker at 0x7f10fbbcd748>,\n",
       " <folium.vector_layers.CircleMarker at 0x7f10fbbcd780>,\n",
       " <folium.vector_layers.CircleMarker at 0x7f10fbbcd7b8>,\n",
       " <folium.vector_layers.CircleMarker at 0x7f10fbbcd7f0>,\n",
       " <folium.vector_layers.CircleMarker at 0x7f10fbbcd828>,\n",
       " <folium.vector_layers.CircleMarker at 0x7f10fbbcd860>,\n",
       " <folium.vector_layers.CircleMarker at 0x7f10fbbcd898>,\n",
       " <folium.vector_layers.CircleMarker at 0x7f10fbbcd8d0>,\n",
       " <folium.vector_layers.CircleMarker at 0x7f10fbbcd908>,\n",
       " <folium.vector_layers.CircleMarker at 0x7f10fbbcd940>,\n",
       " <folium.vector_layers.CircleMarker at 0x7f10fbbcd978>,\n",
       " <folium.vector_layers.CircleMarker at 0x7f10fbbcd9b0>,\n",
       " <folium.vector_layers.CircleMarker at 0x7f10fbbcd9e8>,\n",
       " <folium.vector_layers.CircleMarker at 0x7f10fbbcda20>,\n",
       " <folium.vector_layers.CircleMarker at 0x7f10fbbcda58>,\n",
       " <folium.vector_layers.CircleMarker at 0x7f10fbbcda90>,\n",
       " <folium.vector_layers.CircleMarker at 0x7f10fbbcdac8>,\n",
       " <folium.vector_layers.CircleMarker at 0x7f10fbbcdb00>,\n",
       " <folium.vector_layers.CircleMarker at 0x7f10fbbcdb38>,\n",
       " <folium.vector_layers.CircleMarker at 0x7f10fbbcdb70>,\n",
       " <folium.vector_layers.CircleMarker at 0x7f10fbbcdba8>,\n",
       " <folium.vector_layers.CircleMarker at 0x7f10fbbcdbe0>,\n",
       " <folium.vector_layers.CircleMarker at 0x7f10fbbcdc18>,\n",
       " <folium.vector_layers.CircleMarker at 0x7f10fbbcdc50>,\n",
       " <folium.vector_layers.CircleMarker at 0x7f10fbbcdc88>,\n",
       " <folium.vector_layers.CircleMarker at 0x7f10fbbcdcc0>,\n",
       " <folium.vector_layers.CircleMarker at 0x7f10fbbcdcf8>,\n",
       " <folium.vector_layers.CircleMarker at 0x7f10fbbcdd30>,\n",
       " <folium.vector_layers.CircleMarker at 0x7f10fbbcdd68>,\n",
       " <folium.vector_layers.CircleMarker at 0x7f10fbbcdda0>,\n",
       " <folium.vector_layers.CircleMarker at 0x7f10fbbcddd8>,\n",
       " <folium.vector_layers.CircleMarker at 0x7f10fbbcde10>,\n",
       " <folium.vector_layers.CircleMarker at 0x7f10fbbcde48>,\n",
       " <folium.vector_layers.CircleMarker at 0x7f10fbbcde80>,\n",
       " <folium.vector_layers.CircleMarker at 0x7f10fbbcdeb8>,\n",
       " <folium.vector_layers.CircleMarker at 0x7f10fbbcdef0>,\n",
       " <folium.vector_layers.CircleMarker at 0x7f10fbbcdf28>,\n",
       " <folium.vector_layers.CircleMarker at 0x7f10fbbcdf60>,\n",
       " <folium.vector_layers.CircleMarker at 0x7f10fbbcdf98>,\n",
       " <folium.vector_layers.CircleMarker at 0x7f10fbbcdfd0>,\n",
       " <folium.vector_layers.CircleMarker at 0x7f10fbbcd048>,\n",
       " <folium.vector_layers.CircleMarker at 0x7f10fbbdc048>,\n",
       " <folium.vector_layers.CircleMarker at 0x7f10fbbdc0b8>,\n",
       " <folium.vector_layers.CircleMarker at 0x7f10fbbdc0f0>,\n",
       " <folium.vector_layers.CircleMarker at 0x7f10fbbdc128>,\n",
       " <folium.vector_layers.CircleMarker at 0x7f10fbbdc160>,\n",
       " <folium.vector_layers.CircleMarker at 0x7f10fbbdc198>,\n",
       " <folium.vector_layers.CircleMarker at 0x7f10fbbdc1d0>,\n",
       " <folium.vector_layers.CircleMarker at 0x7f10fbbdc208>,\n",
       " <folium.vector_layers.CircleMarker at 0x7f10fbbdc240>,\n",
       " <folium.vector_layers.CircleMarker at 0x7f10fbbdc278>,\n",
       " <folium.vector_layers.CircleMarker at 0x7f10fbbdc2b0>,\n",
       " <folium.vector_layers.CircleMarker at 0x7f10fbbdc2e8>,\n",
       " <folium.vector_layers.CircleMarker at 0x7f10fbbdc320>,\n",
       " <folium.vector_layers.CircleMarker at 0x7f10fbbdc358>,\n",
       " <folium.vector_layers.CircleMarker at 0x7f10fbbdc390>,\n",
       " <folium.vector_layers.CircleMarker at 0x7f10fbbdc3c8>,\n",
       " <folium.vector_layers.CircleMarker at 0x7f10fbbdc400>,\n",
       " <folium.vector_layers.CircleMarker at 0x7f10fbbdc438>,\n",
       " <folium.vector_layers.CircleMarker at 0x7f10fbbdc470>,\n",
       " <folium.vector_layers.CircleMarker at 0x7f10fbbdc4a8>,\n",
       " <folium.vector_layers.CircleMarker at 0x7f10fbbdc4e0>,\n",
       " <folium.vector_layers.CircleMarker at 0x7f10fbbdc518>,\n",
       " <folium.vector_layers.CircleMarker at 0x7f10fbbdc550>,\n",
       " <folium.vector_layers.CircleMarker at 0x7f10fbbdc588>,\n",
       " <folium.vector_layers.CircleMarker at 0x7f10fbbdc5c0>,\n",
       " <folium.vector_layers.CircleMarker at 0x7f10fbbdc5f8>,\n",
       " <folium.vector_layers.CircleMarker at 0x7f10fbbdc630>,\n",
       " <folium.vector_layers.CircleMarker at 0x7f10fbbdc668>,\n",
       " <folium.vector_layers.CircleMarker at 0x7f10fbbdc6a0>,\n",
       " <folium.vector_layers.CircleMarker at 0x7f10fbbdc6d8>,\n",
       " <folium.vector_layers.CircleMarker at 0x7f10fbbdc710>,\n",
       " <folium.vector_layers.CircleMarker at 0x7f10fbbdc748>,\n",
       " <folium.vector_layers.CircleMarker at 0x7f10fbbdc780>,\n",
       " <folium.vector_layers.CircleMarker at 0x7f10fbbdc7b8>,\n",
       " <folium.vector_layers.CircleMarker at 0x7f10fbbdc7f0>,\n",
       " <folium.vector_layers.CircleMarker at 0x7f10fbbdc828>,\n",
       " <folium.vector_layers.CircleMarker at 0x7f10fbbdc860>,\n",
       " <folium.vector_layers.CircleMarker at 0x7f10fbbdc898>,\n",
       " <folium.vector_layers.CircleMarker at 0x7f10fbbdc8d0>,\n",
       " <folium.vector_layers.CircleMarker at 0x7f10fbbdc908>,\n",
       " <folium.vector_layers.CircleMarker at 0x7f10fbbdc940>,\n",
       " <folium.vector_layers.CircleMarker at 0x7f10fbbdc978>,\n",
       " <folium.vector_layers.CircleMarker at 0x7f10fbbdc9b0>,\n",
       " <folium.vector_layers.CircleMarker at 0x7f10fbbdc9e8>,\n",
       " <folium.vector_layers.CircleMarker at 0x7f10fbbdca20>,\n",
       " <folium.vector_layers.CircleMarker at 0x7f10fbbdca58>,\n",
       " <folium.vector_layers.CircleMarker at 0x7f10fbbdca90>,\n",
       " <folium.vector_layers.CircleMarker at 0x7f10fbbdcac8>,\n",
       " <folium.vector_layers.CircleMarker at 0x7f10fbbdcb00>,\n",
       " <folium.vector_layers.CircleMarker at 0x7f10fbbdcb38>,\n",
       " <folium.vector_layers.CircleMarker at 0x7f10fbbdcb70>,\n",
       " <folium.vector_layers.CircleMarker at 0x7f10fbbdcba8>,\n",
       " <folium.vector_layers.CircleMarker at 0x7f10fbbdcbe0>,\n",
       " <folium.vector_layers.CircleMarker at 0x7f10fbbdcc18>,\n",
       " <folium.vector_layers.CircleMarker at 0x7f10fbbdcc50>,\n",
       " <folium.vector_layers.CircleMarker at 0x7f10fbbdcc88>,\n",
       " <folium.vector_layers.CircleMarker at 0x7f10fbbdccc0>,\n",
       " <folium.vector_layers.CircleMarker at 0x7f10fbbdccf8>,\n",
       " <folium.vector_layers.CircleMarker at 0x7f10fbbdcd30>,\n",
       " <folium.vector_layers.CircleMarker at 0x7f10fbbdcd68>,\n",
       " <folium.vector_layers.CircleMarker at 0x7f10fbbdcda0>,\n",
       " <folium.vector_layers.CircleMarker at 0x7f10fbbdcdd8>,\n",
       " <folium.vector_layers.CircleMarker at 0x7f10fbbdce10>,\n",
       " <folium.vector_layers.CircleMarker at 0x7f10fbbdce48>,\n",
       " <folium.vector_layers.CircleMarker at 0x7f10fbbdce80>,\n",
       " <folium.vector_layers.CircleMarker at 0x7f10fbbdceb8>,\n",
       " <folium.vector_layers.CircleMarker at 0x7f10fbbdcef0>,\n",
       " <folium.vector_layers.CircleMarker at 0x7f10fbbdcf28>,\n",
       " <folium.vector_layers.CircleMarker at 0x7f10fbbdcf60>,\n",
       " <folium.vector_layers.CircleMarker at 0x7f10fbbdcf98>,\n",
       " <folium.vector_layers.CircleMarker at 0x7f10fbbdcfd0>,\n",
       " <folium.vector_layers.CircleMarker at 0x7f10fbbdc080>,\n",
       " <folium.vector_layers.CircleMarker at 0x7f10fbbe9080>,\n",
       " <folium.vector_layers.CircleMarker at 0x7f10fbbe90b8>,\n",
       " <folium.vector_layers.CircleMarker at 0x7f10fbbe90f0>,\n",
       " <folium.vector_layers.CircleMarker at 0x7f10fbbe9128>,\n",
       " <folium.vector_layers.CircleMarker at 0x7f10fbbe9160>,\n",
       " <folium.vector_layers.CircleMarker at 0x7f10fbbe9198>,\n",
       " <folium.vector_layers.CircleMarker at 0x7f10fbbe91d0>,\n",
       " <folium.vector_layers.CircleMarker at 0x7f10fbbe9208>,\n",
       " <folium.vector_layers.CircleMarker at 0x7f10fbbe9240>,\n",
       " <folium.vector_layers.CircleMarker at 0x7f10fbbe9278>,\n",
       " <folium.vector_layers.CircleMarker at 0x7f10fbbe92b0>,\n",
       " <folium.vector_layers.CircleMarker at 0x7f10fbbe92e8>,\n",
       " <folium.vector_layers.CircleMarker at 0x7f10fbbe9320>,\n",
       " <folium.vector_layers.CircleMarker at 0x7f10fbbe9358>,\n",
       " <folium.vector_layers.CircleMarker at 0x7f10fbbe9390>,\n",
       " <folium.vector_layers.CircleMarker at 0x7f10fbbe93c8>,\n",
       " <folium.vector_layers.CircleMarker at 0x7f10fbbe9400>,\n",
       " <folium.vector_layers.CircleMarker at 0x7f10fbbe9438>,\n",
       " <folium.vector_layers.CircleMarker at 0x7f10fbbe9470>,\n",
       " <folium.vector_layers.CircleMarker at 0x7f10fbbe94a8>,\n",
       " <folium.vector_layers.CircleMarker at 0x7f10fbbe94e0>,\n",
       " <folium.vector_layers.CircleMarker at 0x7f10fbbe9518>,\n",
       " <folium.vector_layers.CircleMarker at 0x7f10fbbe9550>,\n",
       " <folium.vector_layers.CircleMarker at 0x7f10fbbe9588>,\n",
       " <folium.vector_layers.CircleMarker at 0x7f10fbbe95c0>,\n",
       " <folium.vector_layers.CircleMarker at 0x7f10fbbe95f8>,\n",
       " <folium.vector_layers.CircleMarker at 0x7f10fbbe9630>,\n",
       " <folium.vector_layers.CircleMarker at 0x7f10fbbe9668>,\n",
       " <folium.vector_layers.CircleMarker at 0x7f10fbbe96a0>,\n",
       " <folium.vector_layers.CircleMarker at 0x7f10fbbe96d8>,\n",
       " <folium.vector_layers.CircleMarker at 0x7f10fbbe9710>,\n",
       " <folium.vector_layers.CircleMarker at 0x7f10fbbe9748>,\n",
       " <folium.vector_layers.CircleMarker at 0x7f10fbbe9780>,\n",
       " <folium.vector_layers.CircleMarker at 0x7f10fbbe97b8>,\n",
       " <folium.vector_layers.CircleMarker at 0x7f10fbbe97f0>,\n",
       " <folium.vector_layers.CircleMarker at 0x7f10fbbe9828>,\n",
       " <folium.vector_layers.CircleMarker at 0x7f10fbbe9860>,\n",
       " <folium.vector_layers.CircleMarker at 0x7f10fbbe9898>,\n",
       " <folium.vector_layers.CircleMarker at 0x7f10fbbe98d0>,\n",
       " <folium.vector_layers.CircleMarker at 0x7f10fbbe9908>,\n",
       " <folium.vector_layers.CircleMarker at 0x7f10fbbe9940>,\n",
       " <folium.vector_layers.CircleMarker at 0x7f10fbbe9978>,\n",
       " <folium.vector_layers.CircleMarker at 0x7f10fbbe99b0>,\n",
       " <folium.vector_layers.CircleMarker at 0x7f10fbbe99e8>,\n",
       " <folium.vector_layers.CircleMarker at 0x7f10fbbe9a20>,\n",
       " <folium.vector_layers.CircleMarker at 0x7f10fbbe9a58>,\n",
       " <folium.vector_layers.CircleMarker at 0x7f10fbbe9a90>,\n",
       " <folium.vector_layers.CircleMarker at 0x7f10fbbe9ac8>,\n",
       " <folium.vector_layers.CircleMarker at 0x7f10fbbe9b00>,\n",
       " <folium.vector_layers.CircleMarker at 0x7f10fbbe9b38>,\n",
       " <folium.vector_layers.CircleMarker at 0x7f10fbbe9b70>,\n",
       " <folium.vector_layers.CircleMarker at 0x7f10fbbe9ba8>,\n",
       " <folium.vector_layers.CircleMarker at 0x7f10fbbe9be0>,\n",
       " <folium.vector_layers.CircleMarker at 0x7f10fbbe9c18>,\n",
       " <folium.vector_layers.CircleMarker at 0x7f10fbbe9c50>,\n",
       " <folium.vector_layers.CircleMarker at 0x7f10fbbe9c88>,\n",
       " <folium.vector_layers.CircleMarker at 0x7f10fbbe9cc0>,\n",
       " <folium.vector_layers.CircleMarker at 0x7f10fbbe9cf8>,\n",
       " <folium.vector_layers.CircleMarker at 0x7f10fbbe9d30>,\n",
       " <folium.vector_layers.CircleMarker at 0x7f10fbbe9d68>,\n",
       " <folium.vector_layers.CircleMarker at 0x7f10fbbe9da0>,\n",
       " <folium.vector_layers.CircleMarker at 0x7f10fbbe9dd8>,\n",
       " <folium.vector_layers.CircleMarker at 0x7f10fbbe9e10>,\n",
       " <folium.vector_layers.CircleMarker at 0x7f10fbbe9e48>,\n",
       " <folium.vector_layers.CircleMarker at 0x7f10fbbe9e80>,\n",
       " <folium.vector_layers.CircleMarker at 0x7f10fbbe9eb8>,\n",
       " <folium.vector_layers.CircleMarker at 0x7f10fbbe9ef0>,\n",
       " <folium.vector_layers.CircleMarker at 0x7f10fbbe9f28>,\n",
       " <folium.vector_layers.CircleMarker at 0x7f10fbbe9f60>,\n",
       " <folium.vector_layers.CircleMarker at 0x7f10fbbe9f98>,\n",
       " <folium.vector_layers.CircleMarker at 0x7f10fbbe9fd0>,\n",
       " <folium.vector_layers.CircleMarker at 0x7f10fbbe9048>,\n",
       " <folium.vector_layers.CircleMarker at 0x7f10fbbf7080>,\n",
       " <folium.vector_layers.CircleMarker at 0x7f10fbbf70b8>,\n",
       " <folium.vector_layers.CircleMarker at 0x7f10fbbf70f0>,\n",
       " <folium.vector_layers.CircleMarker at 0x7f10fbbf7128>,\n",
       " <folium.vector_layers.CircleMarker at 0x7f10fbbf7160>,\n",
       " <folium.vector_layers.CircleMarker at 0x7f10fbbf7198>,\n",
       " <folium.vector_layers.CircleMarker at 0x7f10fbbf71d0>,\n",
       " <folium.vector_layers.CircleMarker at 0x7f10fbbf7208>,\n",
       " <folium.vector_layers.CircleMarker at 0x7f10fbbf7240>,\n",
       " <folium.vector_layers.CircleMarker at 0x7f10fbbf7278>,\n",
       " <folium.vector_layers.CircleMarker at 0x7f10fbbf72b0>,\n",
       " <folium.vector_layers.CircleMarker at 0x7f10fbbf72e8>,\n",
       " <folium.vector_layers.CircleMarker at 0x7f10fbbf7320>,\n",
       " <folium.vector_layers.CircleMarker at 0x7f10fbbf7358>,\n",
       " <folium.vector_layers.CircleMarker at 0x7f10fbbf7390>,\n",
       " <folium.vector_layers.CircleMarker at 0x7f10fbbf73c8>,\n",
       " <folium.vector_layers.CircleMarker at 0x7f10fbbf7400>,\n",
       " <folium.vector_layers.CircleMarker at 0x7f10fbbf7438>,\n",
       " <folium.vector_layers.CircleMarker at 0x7f10fbbf7470>,\n",
       " <folium.vector_layers.CircleMarker at 0x7f10fbbf74a8>,\n",
       " <folium.vector_layers.CircleMarker at 0x7f10fbbf74e0>,\n",
       " <folium.vector_layers.CircleMarker at 0x7f10fbbf7518>,\n",
       " <folium.vector_layers.CircleMarker at 0x7f10fbbf7550>,\n",
       " <folium.vector_layers.CircleMarker at 0x7f10fbbf7588>,\n",
       " <folium.vector_layers.CircleMarker at 0x7f10fbbf75c0>,\n",
       " <folium.vector_layers.CircleMarker at 0x7f10fbbf75f8>,\n",
       " <folium.vector_layers.CircleMarker at 0x7f10fbbf7630>,\n",
       " <folium.vector_layers.CircleMarker at 0x7f10fbbf7668>,\n",
       " <folium.vector_layers.CircleMarker at 0x7f10fbbf76a0>,\n",
       " <folium.vector_layers.CircleMarker at 0x7f10fbbf76d8>,\n",
       " <folium.vector_layers.CircleMarker at 0x7f10fbbf7710>,\n",
       " <folium.vector_layers.CircleMarker at 0x7f10fbbf7748>,\n",
       " <folium.vector_layers.CircleMarker at 0x7f10fbbf7780>,\n",
       " <folium.vector_layers.CircleMarker at 0x7f10fbbf77b8>,\n",
       " <folium.vector_layers.CircleMarker at 0x7f10fbbf77f0>,\n",
       " <folium.vector_layers.CircleMarker at 0x7f10fbbf7828>,\n",
       " <folium.vector_layers.CircleMarker at 0x7f10fbbf7860>,\n",
       " <folium.vector_layers.CircleMarker at 0x7f10fbbf7898>,\n",
       " <folium.vector_layers.CircleMarker at 0x7f10fbbf78d0>,\n",
       " <folium.vector_layers.CircleMarker at 0x7f10fbbf7908>,\n",
       " <folium.vector_layers.CircleMarker at 0x7f10fbbf7940>,\n",
       " <folium.vector_layers.CircleMarker at 0x7f10fbbf7978>,\n",
       " <folium.vector_layers.CircleMarker at 0x7f10fbbf79b0>,\n",
       " <folium.vector_layers.CircleMarker at 0x7f10fbbf79e8>,\n",
       " <folium.vector_layers.CircleMarker at 0x7f10fbbf7a20>,\n",
       " <folium.vector_layers.CircleMarker at 0x7f10fbbf7a58>,\n",
       " <folium.vector_layers.CircleMarker at 0x7f10fbbf7a90>,\n",
       " <folium.vector_layers.CircleMarker at 0x7f10fbbf7ac8>,\n",
       " <folium.vector_layers.CircleMarker at 0x7f10fbbf7b00>,\n",
       " <folium.vector_layers.CircleMarker at 0x7f10fbbf7b38>,\n",
       " <folium.vector_layers.CircleMarker at 0x7f10fbbf7b70>,\n",
       " <folium.vector_layers.CircleMarker at 0x7f10fbbf7ba8>,\n",
       " <folium.vector_layers.CircleMarker at 0x7f10fbbf7be0>,\n",
       " <folium.vector_layers.CircleMarker at 0x7f10fbbf7c18>,\n",
       " <folium.vector_layers.CircleMarker at 0x7f10fbbf7c50>,\n",
       " <folium.vector_layers.CircleMarker at 0x7f10fbbf7c88>,\n",
       " <folium.vector_layers.CircleMarker at 0x7f10fbbf7cc0>,\n",
       " <folium.vector_layers.CircleMarker at 0x7f10fbbf7cf8>,\n",
       " <folium.vector_layers.CircleMarker at 0x7f10fbbf7d30>,\n",
       " <folium.vector_layers.CircleMarker at 0x7f10fbbf7d68>,\n",
       " <folium.vector_layers.CircleMarker at 0x7f10fbbf7da0>,\n",
       " <folium.vector_layers.CircleMarker at 0x7f10fbbf7dd8>,\n",
       " <folium.vector_layers.CircleMarker at 0x7f10fbbf7e10>,\n",
       " <folium.vector_layers.CircleMarker at 0x7f10fbbf7e48>,\n",
       " <folium.vector_layers.CircleMarker at 0x7f10fbbf7e80>,\n",
       " <folium.vector_layers.CircleMarker at 0x7f10fbbf7eb8>,\n",
       " <folium.vector_layers.CircleMarker at 0x7f10fbbf7ef0>,\n",
       " <folium.vector_layers.CircleMarker at 0x7f10fbbf7f28>,\n",
       " <folium.vector_layers.CircleMarker at 0x7f10fbbf7f60>,\n",
       " <folium.vector_layers.CircleMarker at 0x7f10fbbf7f98>,\n",
       " <folium.vector_layers.CircleMarker at 0x7f10fbbf7fd0>,\n",
       " <folium.vector_layers.CircleMarker at 0x7f10fbbf7048>,\n",
       " <folium.vector_layers.CircleMarker at 0x7f10fbc06080>,\n",
       " <folium.vector_layers.CircleMarker at 0x7f10fbc060b8>,\n",
       " <folium.vector_layers.CircleMarker at 0x7f10fbc060f0>,\n",
       " <folium.vector_layers.CircleMarker at 0x7f10fbc06128>,\n",
       " <folium.vector_layers.CircleMarker at 0x7f10fbc06160>,\n",
       " <folium.vector_layers.CircleMarker at 0x7f10fbc06198>,\n",
       " <folium.vector_layers.CircleMarker at 0x7f10fbc061d0>,\n",
       " <folium.vector_layers.CircleMarker at 0x7f10fbc06208>,\n",
       " <folium.vector_layers.CircleMarker at 0x7f10fbc06240>,\n",
       " <folium.vector_layers.CircleMarker at 0x7f10fbc06278>,\n",
       " <folium.vector_layers.CircleMarker at 0x7f10fbc062b0>,\n",
       " <folium.vector_layers.CircleMarker at 0x7f10fbc062e8>,\n",
       " <folium.vector_layers.CircleMarker at 0x7f10fbc06320>,\n",
       " <folium.vector_layers.CircleMarker at 0x7f10fbc06358>,\n",
       " <folium.vector_layers.CircleMarker at 0x7f10fbc06390>,\n",
       " <folium.vector_layers.CircleMarker at 0x7f10fbc063c8>,\n",
       " <folium.vector_layers.CircleMarker at 0x7f10fbc06400>,\n",
       " <folium.vector_layers.CircleMarker at 0x7f10fbc06438>,\n",
       " <folium.vector_layers.CircleMarker at 0x7f10fbc06470>,\n",
       " <folium.vector_layers.CircleMarker at 0x7f10fbc064a8>,\n",
       " <folium.vector_layers.CircleMarker at 0x7f10fbc064e0>,\n",
       " <folium.vector_layers.CircleMarker at 0x7f10fbc06518>,\n",
       " <folium.vector_layers.CircleMarker at 0x7f10fbc06550>,\n",
       " <folium.vector_layers.CircleMarker at 0x7f10fbc06588>,\n",
       " <folium.vector_layers.CircleMarker at 0x7f10fbc065c0>,\n",
       " <folium.vector_layers.CircleMarker at 0x7f10fbc065f8>,\n",
       " <folium.vector_layers.CircleMarker at 0x7f10fbc06630>,\n",
       " <folium.vector_layers.CircleMarker at 0x7f10fbc06668>,\n",
       " <folium.vector_layers.CircleMarker at 0x7f10fbc066a0>,\n",
       " <folium.vector_layers.CircleMarker at 0x7f10fbc066d8>,\n",
       " <folium.vector_layers.CircleMarker at 0x7f10fbc06710>,\n",
       " <folium.vector_layers.CircleMarker at 0x7f10fbc06748>,\n",
       " <folium.vector_layers.CircleMarker at 0x7f10fbc06780>,\n",
       " <folium.vector_layers.CircleMarker at 0x7f10fbc067b8>,\n",
       " <folium.vector_layers.CircleMarker at 0x7f10fbc067f0>,\n",
       " <folium.vector_layers.CircleMarker at 0x7f10fbc06828>,\n",
       " <folium.vector_layers.CircleMarker at 0x7f10fbc06860>,\n",
       " <folium.vector_layers.CircleMarker at 0x7f10fbc06898>,\n",
       " <folium.vector_layers.CircleMarker at 0x7f10fbc068d0>,\n",
       " <folium.vector_layers.CircleMarker at 0x7f10fbc06908>,\n",
       " <folium.vector_layers.CircleMarker at 0x7f10fbc06940>,\n",
       " <folium.vector_layers.CircleMarker at 0x7f10fbc06978>,\n",
       " <folium.vector_layers.CircleMarker at 0x7f10fbc069b0>,\n",
       " <folium.vector_layers.CircleMarker at 0x7f10fbc069e8>,\n",
       " <folium.vector_layers.CircleMarker at 0x7f10fbc06a20>,\n",
       " <folium.vector_layers.CircleMarker at 0x7f10fbc06a58>,\n",
       " <folium.vector_layers.CircleMarker at 0x7f10fbc06a90>,\n",
       " <folium.vector_layers.CircleMarker at 0x7f10fbc06ac8>,\n",
       " <folium.vector_layers.CircleMarker at 0x7f10fbc06b00>,\n",
       " <folium.vector_layers.CircleMarker at 0x7f10fbc06b38>,\n",
       " <folium.vector_layers.CircleMarker at 0x7f10fbc06b70>,\n",
       " <folium.vector_layers.CircleMarker at 0x7f10fbc06ba8>,\n",
       " <folium.vector_layers.CircleMarker at 0x7f10fbc06be0>,\n",
       " <folium.vector_layers.CircleMarker at 0x7f10fbc06c18>,\n",
       " <folium.vector_layers.CircleMarker at 0x7f10fbc06c50>,\n",
       " <folium.vector_layers.CircleMarker at 0x7f10fbc06c88>,\n",
       " <folium.vector_layers.CircleMarker at 0x7f10fbc06cc0>,\n",
       " <folium.vector_layers.CircleMarker at 0x7f10fbc06cf8>,\n",
       " <folium.vector_layers.CircleMarker at 0x7f10fbc06d30>,\n",
       " <folium.vector_layers.CircleMarker at 0x7f10fbc06d68>,\n",
       " <folium.vector_layers.CircleMarker at 0x7f10fbc06da0>,\n",
       " <folium.vector_layers.CircleMarker at 0x7f10fbc06dd8>,\n",
       " <folium.vector_layers.CircleMarker at 0x7f10fbc06e10>,\n",
       " <folium.vector_layers.CircleMarker at 0x7f10fbc06e48>,\n",
       " <folium.vector_layers.CircleMarker at 0x7f10fbc06e80>,\n",
       " <folium.vector_layers.CircleMarker at 0x7f10fbc06eb8>,\n",
       " <folium.vector_layers.CircleMarker at 0x7f10fbc06ef0>,\n",
       " <folium.vector_layers.CircleMarker at 0x7f10fbc06f28>,\n",
       " <folium.vector_layers.CircleMarker at 0x7f10fbc06f60>,\n",
       " <folium.vector_layers.CircleMarker at 0x7f10fbc06f98>,\n",
       " <folium.vector_layers.CircleMarker at 0x7f10fbc06fd0>,\n",
       " <folium.vector_layers.CircleMarker at 0x7f10fbc06048>,\n",
       " <folium.vector_layers.CircleMarker at 0x7f10fbb93080>,\n",
       " <folium.vector_layers.CircleMarker at 0x7f10fbb930b8>,\n",
       " <folium.vector_layers.CircleMarker at 0x7f10fbb930f0>,\n",
       " <folium.vector_layers.CircleMarker at 0x7f10fbb93128>,\n",
       " <folium.vector_layers.CircleMarker at 0x7f10fbb93160>,\n",
       " <folium.vector_layers.CircleMarker at 0x7f10fbb93198>,\n",
       " <folium.vector_layers.CircleMarker at 0x7f10fbb931d0>,\n",
       " <folium.vector_layers.CircleMarker at 0x7f10fbb93208>,\n",
       " <folium.vector_layers.CircleMarker at 0x7f10fbb93240>,\n",
       " <folium.vector_layers.CircleMarker at 0x7f10fbb93278>,\n",
       " <folium.vector_layers.CircleMarker at 0x7f10fbb932b0>,\n",
       " <folium.vector_layers.CircleMarker at 0x7f10fbb932e8>,\n",
       " <folium.vector_layers.CircleMarker at 0x7f10fbb93320>,\n",
       " <folium.vector_layers.CircleMarker at 0x7f10fbb93358>,\n",
       " <folium.vector_layers.CircleMarker at 0x7f10fbb93390>,\n",
       " <folium.vector_layers.CircleMarker at 0x7f10fbb933c8>,\n",
       " <folium.vector_layers.CircleMarker at 0x7f10fbb93400>,\n",
       " <folium.vector_layers.CircleMarker at 0x7f10fbb93438>,\n",
       " <folium.vector_layers.CircleMarker at 0x7f10fbb93470>,\n",
       " <folium.vector_layers.CircleMarker at 0x7f10fbb934a8>,\n",
       " <folium.vector_layers.CircleMarker at 0x7f10fbb934e0>,\n",
       " <folium.vector_layers.CircleMarker at 0x7f10fbb93518>,\n",
       " <folium.vector_layers.CircleMarker at 0x7f10fbb93550>,\n",
       " <folium.vector_layers.CircleMarker at 0x7f10fbb93588>,\n",
       " <folium.vector_layers.CircleMarker at 0x7f10fbb935c0>,\n",
       " <folium.vector_layers.CircleMarker at 0x7f10fbb935f8>,\n",
       " <folium.vector_layers.CircleMarker at 0x7f10fbb93630>,\n",
       " <folium.vector_layers.CircleMarker at 0x7f10fbb93668>,\n",
       " <folium.vector_layers.CircleMarker at 0x7f10fbb936a0>,\n",
       " <folium.vector_layers.CircleMarker at 0x7f10fbb936d8>,\n",
       " <folium.vector_layers.CircleMarker at 0x7f10fbb93710>,\n",
       " <folium.vector_layers.CircleMarker at 0x7f10fbb93748>,\n",
       " <folium.vector_layers.CircleMarker at 0x7f10fbb93780>,\n",
       " <folium.vector_layers.CircleMarker at 0x7f10fbb937b8>,\n",
       " <folium.vector_layers.CircleMarker at 0x7f10fbb937f0>,\n",
       " <folium.vector_layers.CircleMarker at 0x7f10fbb93828>,\n",
       " <folium.vector_layers.CircleMarker at 0x7f10fbb93860>,\n",
       " <folium.vector_layers.CircleMarker at 0x7f10fbb93898>,\n",
       " <folium.vector_layers.CircleMarker at 0x7f10fbb938d0>,\n",
       " <folium.vector_layers.CircleMarker at 0x7f10fbb93908>,\n",
       " <folium.vector_layers.CircleMarker at 0x7f10fbb93940>,\n",
       " <folium.vector_layers.CircleMarker at 0x7f10fbb93978>,\n",
       " <folium.vector_layers.CircleMarker at 0x7f10fbb939b0>,\n",
       " <folium.vector_layers.CircleMarker at 0x7f10fbb939e8>,\n",
       " <folium.vector_layers.CircleMarker at 0x7f10fbb93a20>,\n",
       " <folium.vector_layers.CircleMarker at 0x7f10fbb93a58>,\n",
       " <folium.vector_layers.CircleMarker at 0x7f10fbb93a90>,\n",
       " <folium.vector_layers.CircleMarker at 0x7f10fbb93ac8>,\n",
       " <folium.vector_layers.CircleMarker at 0x7f10fbb93b00>,\n",
       " <folium.vector_layers.CircleMarker at 0x7f10fbb93b38>,\n",
       " <folium.vector_layers.CircleMarker at 0x7f10fbb93b70>,\n",
       " <folium.vector_layers.CircleMarker at 0x7f10fbb93ba8>,\n",
       " <folium.vector_layers.CircleMarker at 0x7f10fbb93be0>,\n",
       " <folium.vector_layers.CircleMarker at 0x7f10fbb93c18>,\n",
       " <folium.vector_layers.CircleMarker at 0x7f10fbb93c50>,\n",
       " <folium.vector_layers.CircleMarker at 0x7f10fbb93c88>,\n",
       " <folium.vector_layers.CircleMarker at 0x7f10fbb93cc0>,\n",
       " <folium.vector_layers.CircleMarker at 0x7f10fbb93cf8>,\n",
       " <folium.vector_layers.CircleMarker at 0x7f10fbb93d30>,\n",
       " <folium.vector_layers.CircleMarker at 0x7f10fbb93d68>,\n",
       " <folium.vector_layers.CircleMarker at 0x7f10fbb93da0>,\n",
       " <folium.vector_layers.CircleMarker at 0x7f10fbb93dd8>,\n",
       " <folium.vector_layers.CircleMarker at 0x7f10fbb93e10>,\n",
       " <folium.vector_layers.CircleMarker at 0x7f10fbb93e48>,\n",
       " <folium.vector_layers.CircleMarker at 0x7f10fbb93e80>,\n",
       " <folium.vector_layers.CircleMarker at 0x7f10fbb93eb8>,\n",
       " <folium.vector_layers.CircleMarker at 0x7f10fbb93ef0>,\n",
       " <folium.vector_layers.CircleMarker at 0x7f10fbb93f28>,\n",
       " <folium.vector_layers.CircleMarker at 0x7f10fbb93f60>,\n",
       " <folium.vector_layers.CircleMarker at 0x7f10fbb93f98>,\n",
       " <folium.vector_layers.CircleMarker at 0x7f10fbb93fd0>,\n",
       " <folium.vector_layers.CircleMarker at 0x7f10fbb93048>,\n",
       " <folium.vector_layers.CircleMarker at 0x7f10fbba2080>,\n",
       " <folium.vector_layers.CircleMarker at 0x7f10fbba20b8>,\n",
       " <folium.vector_layers.CircleMarker at 0x7f10fbba20f0>,\n",
       " <folium.vector_layers.CircleMarker at 0x7f10fbba2128>,\n",
       " <folium.vector_layers.CircleMarker at 0x7f10fbba2160>,\n",
       " <folium.vector_layers.CircleMarker at 0x7f10fbba2198>,\n",
       " <folium.vector_layers.CircleMarker at 0x7f10fbba21d0>,\n",
       " <folium.vector_layers.CircleMarker at 0x7f10fbba2208>,\n",
       " <folium.vector_layers.CircleMarker at 0x7f10fbba2240>,\n",
       " <folium.vector_layers.CircleMarker at 0x7f10fbba2278>,\n",
       " <folium.vector_layers.CircleMarker at 0x7f10fbba22b0>,\n",
       " <folium.vector_layers.CircleMarker at 0x7f10fbba22e8>,\n",
       " <folium.vector_layers.CircleMarker at 0x7f10fbba2320>,\n",
       " <folium.vector_layers.CircleMarker at 0x7f10fbba2358>,\n",
       " <folium.vector_layers.CircleMarker at 0x7f10fbba2390>,\n",
       " <folium.vector_layers.CircleMarker at 0x7f10fbba23c8>,\n",
       " <folium.vector_layers.CircleMarker at 0x7f10fbba2400>,\n",
       " <folium.vector_layers.CircleMarker at 0x7f10fbba2438>,\n",
       " <folium.vector_layers.CircleMarker at 0x7f10fbba2470>,\n",
       " <folium.vector_layers.CircleMarker at 0x7f10fbba24a8>,\n",
       " <folium.vector_layers.CircleMarker at 0x7f10fbba24e0>,\n",
       " <folium.vector_layers.CircleMarker at 0x7f10fbba2518>,\n",
       " <folium.vector_layers.CircleMarker at 0x7f10fbba2550>,\n",
       " <folium.vector_layers.CircleMarker at 0x7f10fbba2588>,\n",
       " <folium.vector_layers.CircleMarker at 0x7f10fbba25c0>,\n",
       " <folium.vector_layers.CircleMarker at 0x7f10fbba25f8>,\n",
       " <folium.vector_layers.CircleMarker at 0x7f10fbba2630>,\n",
       " <folium.vector_layers.CircleMarker at 0x7f10fbba2668>,\n",
       " <folium.vector_layers.CircleMarker at 0x7f10fbba26a0>,\n",
       " <folium.vector_layers.CircleMarker at 0x7f10fbba26d8>,\n",
       " <folium.vector_layers.CircleMarker at 0x7f10fbba2710>,\n",
       " <folium.vector_layers.CircleMarker at 0x7f10fbba2748>,\n",
       " <folium.vector_layers.CircleMarker at 0x7f10fbba2780>,\n",
       " <folium.vector_layers.CircleMarker at 0x7f10fbba27b8>,\n",
       " <folium.vector_layers.CircleMarker at 0x7f10fbba27f0>,\n",
       " <folium.vector_layers.CircleMarker at 0x7f10fbba2828>,\n",
       " <folium.vector_layers.CircleMarker at 0x7f10fbba2860>,\n",
       " <folium.vector_layers.CircleMarker at 0x7f10fbba2898>,\n",
       " <folium.vector_layers.CircleMarker at 0x7f10fbba28d0>,\n",
       " <folium.vector_layers.CircleMarker at 0x7f10fbba2908>,\n",
       " <folium.vector_layers.CircleMarker at 0x7f10fbba2940>,\n",
       " <folium.vector_layers.CircleMarker at 0x7f10fbba2978>,\n",
       " <folium.vector_layers.CircleMarker at 0x7f10fbba29b0>,\n",
       " <folium.vector_layers.CircleMarker at 0x7f10fbba29e8>,\n",
       " <folium.vector_layers.CircleMarker at 0x7f10fbba2a20>,\n",
       " <folium.vector_layers.CircleMarker at 0x7f10fbba2a58>,\n",
       " <folium.vector_layers.CircleMarker at 0x7f10fbba2a90>,\n",
       " <folium.vector_layers.CircleMarker at 0x7f10fbba2ac8>,\n",
       " <folium.vector_layers.CircleMarker at 0x7f10fbba2b00>,\n",
       " <folium.vector_layers.CircleMarker at 0x7f10fbba2b38>,\n",
       " <folium.vector_layers.CircleMarker at 0x7f10fbba2b70>,\n",
       " <folium.vector_layers.CircleMarker at 0x7f10fbba2ba8>,\n",
       " <folium.vector_layers.CircleMarker at 0x7f10fbba2be0>,\n",
       " <folium.vector_layers.CircleMarker at 0x7f10fbba2c18>,\n",
       " <folium.vector_layers.CircleMarker at 0x7f10fbba2c50>,\n",
       " <folium.vector_layers.CircleMarker at 0x7f10fbba2c88>,\n",
       " <folium.vector_layers.CircleMarker at 0x7f10fbba2cc0>,\n",
       " <folium.vector_layers.CircleMarker at 0x7f10fbba2cf8>,\n",
       " <folium.vector_layers.CircleMarker at 0x7f10fbba2d30>,\n",
       " <folium.vector_layers.CircleMarker at 0x7f10fbba2d68>,\n",
       " <folium.vector_layers.CircleMarker at 0x7f10fbba2da0>,\n",
       " <folium.vector_layers.CircleMarker at 0x7f10fbba2dd8>,\n",
       " <folium.vector_layers.CircleMarker at 0x7f10fbba2e10>,\n",
       " <folium.vector_layers.CircleMarker at 0x7f10fbba2e48>,\n",
       " <folium.vector_layers.CircleMarker at 0x7f10fbba2e80>,\n",
       " <folium.vector_layers.CircleMarker at 0x7f10fbba2eb8>,\n",
       " <folium.vector_layers.CircleMarker at 0x7f10fbba2ef0>,\n",
       " <folium.vector_layers.CircleMarker at 0x7f10fbba2f28>,\n",
       " <folium.vector_layers.CircleMarker at 0x7f10fbba2f60>,\n",
       " <folium.vector_layers.CircleMarker at 0x7f10fbba2f98>,\n",
       " <folium.vector_layers.CircleMarker at 0x7f10fbba2fd0>,\n",
       " <folium.vector_layers.CircleMarker at 0x7f10fbba2048>,\n",
       " <folium.vector_layers.CircleMarker at 0x7f10fbbae080>,\n",
       " <folium.vector_layers.CircleMarker at 0x7f10fbbae0b8>,\n",
       " <folium.vector_layers.CircleMarker at 0x7f10fbbae0f0>,\n",
       " <folium.vector_layers.CircleMarker at 0x7f10fbbae128>,\n",
       " <folium.vector_layers.CircleMarker at 0x7f10fbbae160>,\n",
       " <folium.vector_layers.CircleMarker at 0x7f10fbbae198>,\n",
       " <folium.vector_layers.CircleMarker at 0x7f10fbbae1d0>,\n",
       " <folium.vector_layers.CircleMarker at 0x7f10fbbae208>,\n",
       " <folium.vector_layers.CircleMarker at 0x7f10fbbae240>,\n",
       " <folium.vector_layers.CircleMarker at 0x7f10fbbae278>,\n",
       " <folium.vector_layers.CircleMarker at 0x7f10fbbae2b0>,\n",
       " <folium.vector_layers.CircleMarker at 0x7f10fbbae2e8>,\n",
       " <folium.vector_layers.CircleMarker at 0x7f10fbbae320>,\n",
       " <folium.vector_layers.CircleMarker at 0x7f10fbbae358>,\n",
       " <folium.vector_layers.CircleMarker at 0x7f10fbbae390>,\n",
       " <folium.vector_layers.CircleMarker at 0x7f10fbbae3c8>,\n",
       " <folium.vector_layers.CircleMarker at 0x7f10fbbae400>,\n",
       " <folium.vector_layers.CircleMarker at 0x7f10fbbae438>,\n",
       " <folium.vector_layers.CircleMarker at 0x7f10fbbae470>,\n",
       " <folium.vector_layers.CircleMarker at 0x7f10fbbae4a8>,\n",
       " <folium.vector_layers.CircleMarker at 0x7f10fbbae4e0>,\n",
       " <folium.vector_layers.CircleMarker at 0x7f10fbbae518>,\n",
       " <folium.vector_layers.CircleMarker at 0x7f10fbbae550>,\n",
       " <folium.vector_layers.CircleMarker at 0x7f10fbbae588>,\n",
       " <folium.vector_layers.CircleMarker at 0x7f10fbbae5c0>,\n",
       " <folium.vector_layers.CircleMarker at 0x7f10fbbae5f8>,\n",
       " <folium.vector_layers.CircleMarker at 0x7f10fbbae630>,\n",
       " <folium.vector_layers.CircleMarker at 0x7f10fbbae668>,\n",
       " <folium.vector_layers.CircleMarker at 0x7f10fbbae6a0>,\n",
       " <folium.vector_layers.CircleMarker at 0x7f10fbbae6d8>,\n",
       " <folium.vector_layers.CircleMarker at 0x7f10fbbae710>,\n",
       " <folium.vector_layers.CircleMarker at 0x7f10fbbae748>,\n",
       " <folium.vector_layers.CircleMarker at 0x7f10fbbae780>,\n",
       " <folium.vector_layers.CircleMarker at 0x7f10fbbae7b8>,\n",
       " <folium.vector_layers.CircleMarker at 0x7f10fbbae7f0>,\n",
       " <folium.vector_layers.CircleMarker at 0x7f10fbbae828>,\n",
       " <folium.vector_layers.CircleMarker at 0x7f10fbbae860>,\n",
       " <folium.vector_layers.CircleMarker at 0x7f10fbbae898>,\n",
       " <folium.vector_layers.CircleMarker at 0x7f10fbbae8d0>,\n",
       " <folium.vector_layers.CircleMarker at 0x7f10fbbae908>,\n",
       " <folium.vector_layers.CircleMarker at 0x7f10fbbae940>,\n",
       " <folium.vector_layers.CircleMarker at 0x7f10fbbae978>,\n",
       " <folium.vector_layers.CircleMarker at 0x7f10fbbae9b0>,\n",
       " <folium.vector_layers.CircleMarker at 0x7f10fbbae9e8>,\n",
       " <folium.vector_layers.CircleMarker at 0x7f10fbbaea20>,\n",
       " <folium.vector_layers.CircleMarker at 0x7f10fbbaea58>,\n",
       " <folium.vector_layers.CircleMarker at 0x7f10fbbaea90>,\n",
       " <folium.vector_layers.CircleMarker at 0x7f10fbbaeac8>,\n",
       " <folium.vector_layers.CircleMarker at 0x7f10fbbaeb00>,\n",
       " <folium.vector_layers.CircleMarker at 0x7f10fbbaeb38>,\n",
       " <folium.vector_layers.CircleMarker at 0x7f10fbbaeb70>,\n",
       " <folium.vector_layers.CircleMarker at 0x7f10fbbaeba8>,\n",
       " <folium.vector_layers.CircleMarker at 0x7f10fbbaebe0>,\n",
       " <folium.vector_layers.CircleMarker at 0x7f10fbbaec18>,\n",
       " <folium.vector_layers.CircleMarker at 0x7f10fbbaec50>,\n",
       " <folium.vector_layers.CircleMarker at 0x7f10fbbaec88>,\n",
       " <folium.vector_layers.CircleMarker at 0x7f10fbbaecc0>,\n",
       " <folium.vector_layers.CircleMarker at 0x7f10fbbaecf8>,\n",
       " <folium.vector_layers.CircleMarker at 0x7f10fbbaed30>,\n",
       " <folium.vector_layers.CircleMarker at 0x7f10fbbaed68>,\n",
       " <folium.vector_layers.CircleMarker at 0x7f10fbbaeda0>,\n",
       " <folium.vector_layers.CircleMarker at 0x7f10fbbaedd8>,\n",
       " <folium.vector_layers.CircleMarker at 0x7f10fbbaee10>,\n",
       " <folium.vector_layers.CircleMarker at 0x7f10fbbaee48>,\n",
       " <folium.vector_layers.CircleMarker at 0x7f10fbbaee80>,\n",
       " <folium.vector_layers.CircleMarker at 0x7f10fbbaeeb8>,\n",
       " <folium.vector_layers.CircleMarker at 0x7f10fbbaeef0>,\n",
       " <folium.vector_layers.CircleMarker at 0x7f10fbbaef28>,\n",
       " <folium.vector_layers.CircleMarker at 0x7f10fbbaef60>,\n",
       " <folium.vector_layers.CircleMarker at 0x7f10fbbaef98>,\n",
       " <folium.vector_layers.CircleMarker at 0x7f10fbbaefd0>,\n",
       " <folium.vector_layers.CircleMarker at 0x7f10fbbae048>,\n",
       " <folium.vector_layers.CircleMarker at 0x7f10fbbbd080>,\n",
       " <folium.vector_layers.CircleMarker at 0x7f10fbbbd0b8>,\n",
       " <folium.vector_layers.CircleMarker at 0x7f10fbbbd0f0>,\n",
       " <folium.vector_layers.CircleMarker at 0x7f10fbbbd128>,\n",
       " <folium.vector_layers.CircleMarker at 0x7f10fbbbd160>,\n",
       " <folium.vector_layers.CircleMarker at 0x7f10fbbbd198>,\n",
       " <folium.vector_layers.CircleMarker at 0x7f10fbbbd1d0>,\n",
       " <folium.vector_layers.CircleMarker at 0x7f10fbbbd208>,\n",
       " <folium.vector_layers.CircleMarker at 0x7f10fbbbd240>,\n",
       " <folium.vector_layers.CircleMarker at 0x7f10fbbbd278>,\n",
       " <folium.vector_layers.CircleMarker at 0x7f10fbbbd2b0>,\n",
       " <folium.vector_layers.CircleMarker at 0x7f10fbbbd2e8>,\n",
       " <folium.vector_layers.CircleMarker at 0x7f10fbbbd320>,\n",
       " <folium.vector_layers.CircleMarker at 0x7f10fbbbd358>,\n",
       " <folium.vector_layers.CircleMarker at 0x7f10fbbbd390>,\n",
       " <folium.vector_layers.CircleMarker at 0x7f10fbbbd3c8>,\n",
       " <folium.vector_layers.CircleMarker at 0x7f10fbbbd400>,\n",
       " <folium.vector_layers.CircleMarker at 0x7f10fbbbd438>,\n",
       " <folium.vector_layers.CircleMarker at 0x7f10fbbbd470>,\n",
       " <folium.vector_layers.CircleMarker at 0x7f10fbbbd4a8>,\n",
       " <folium.vector_layers.CircleMarker at 0x7f10fbbbd4e0>,\n",
       " <folium.vector_layers.CircleMarker at 0x7f10fbbbd518>,\n",
       " <folium.vector_layers.CircleMarker at 0x7f10fbbbd550>,\n",
       " <folium.vector_layers.CircleMarker at 0x7f10fbbbd588>,\n",
       " <folium.vector_layers.CircleMarker at 0x7f10fbbbd5c0>,\n",
       " <folium.vector_layers.CircleMarker at 0x7f10fbbbd5f8>,\n",
       " <folium.vector_layers.CircleMarker at 0x7f10fbbbd630>,\n",
       " <folium.vector_layers.CircleMarker at 0x7f10fbbbd668>,\n",
       " <folium.vector_layers.CircleMarker at 0x7f10fbbbd6a0>,\n",
       " <folium.vector_layers.CircleMarker at 0x7f10fbbbd6d8>,\n",
       " <folium.vector_layers.CircleMarker at 0x7f10fbbbd710>,\n",
       " <folium.vector_layers.CircleMarker at 0x7f10fbbbd748>,\n",
       " <folium.vector_layers.CircleMarker at 0x7f10fbbbd780>,\n",
       " <folium.vector_layers.CircleMarker at 0x7f10fbbbd7b8>,\n",
       " <folium.vector_layers.CircleMarker at 0x7f10fbbbd7f0>,\n",
       " <folium.vector_layers.CircleMarker at 0x7f10fbbbd828>,\n",
       " <folium.vector_layers.CircleMarker at 0x7f10fbbbd860>,\n",
       " <folium.vector_layers.CircleMarker at 0x7f10fbbbd898>,\n",
       " <folium.vector_layers.CircleMarker at 0x7f10fbbbd8d0>,\n",
       " <folium.vector_layers.CircleMarker at 0x7f10fbbbd908>,\n",
       " <folium.vector_layers.CircleMarker at 0x7f10fbbbd940>,\n",
       " <folium.vector_layers.CircleMarker at 0x7f10fbbbd978>,\n",
       " <folium.vector_layers.CircleMarker at 0x7f10fbbbd9b0>,\n",
       " <folium.vector_layers.CircleMarker at 0x7f10fbbbd9e8>,\n",
       " <folium.vector_layers.CircleMarker at 0x7f10fbbbda20>,\n",
       " <folium.vector_layers.CircleMarker at 0x7f10fbbbda58>,\n",
       " <folium.vector_layers.CircleMarker at 0x7f10fbbbda90>,\n",
       " <folium.vector_layers.CircleMarker at 0x7f10fbbbdac8>,\n",
       " <folium.vector_layers.CircleMarker at 0x7f10fbbbdb00>,\n",
       " <folium.vector_layers.CircleMarker at 0x7f10fbbbdb38>,\n",
       " <folium.vector_layers.CircleMarker at 0x7f10fbbbdb70>,\n",
       " <folium.vector_layers.CircleMarker at 0x7f10fbbbdba8>,\n",
       " <folium.vector_layers.CircleMarker at 0x7f10fbbbdbe0>,\n",
       " <folium.vector_layers.CircleMarker at 0x7f10fbbbdc18>,\n",
       " <folium.vector_layers.CircleMarker at 0x7f10fbbbdc50>,\n",
       " <folium.vector_layers.CircleMarker at 0x7f10fbbbdc88>,\n",
       " <folium.vector_layers.CircleMarker at 0x7f10fbbbdcc0>,\n",
       " <folium.vector_layers.CircleMarker at 0x7f10fbbbdcf8>,\n",
       " <folium.vector_layers.CircleMarker at 0x7f10fbbbdd30>,\n",
       " <folium.vector_layers.CircleMarker at 0x7f10fbbbdd68>,\n",
       " <folium.vector_layers.CircleMarker at 0x7f10fbbbdda0>,\n",
       " <folium.vector_layers.CircleMarker at 0x7f10fbbbddd8>,\n",
       " <folium.vector_layers.CircleMarker at 0x7f10fbbbde10>,\n",
       " <folium.vector_layers.CircleMarker at 0x7f10fbbbde48>,\n",
       " <folium.vector_layers.CircleMarker at 0x7f10fbbbde80>,\n",
       " <folium.vector_layers.CircleMarker at 0x7f10fbbbdeb8>,\n",
       " <folium.vector_layers.CircleMarker at 0x7f10fbbbdef0>,\n",
       " <folium.vector_layers.CircleMarker at 0x7f10fbbbdf28>,\n",
       " <folium.vector_layers.CircleMarker at 0x7f10fbbbdf60>,\n",
       " <folium.vector_layers.CircleMarker at 0x7f10fbbbdf98>,\n",
       " <folium.vector_layers.CircleMarker at 0x7f10fbbbdfd0>,\n",
       " <folium.vector_layers.CircleMarker at 0x7f10fbbbd048>,\n",
       " <folium.vector_layers.CircleMarker at 0x7f10fbb4a080>,\n",
       " <folium.vector_layers.CircleMarker at 0x7f10fbb4a0b8>,\n",
       " <folium.vector_layers.CircleMarker at 0x7f10fbb4a0f0>,\n",
       " <folium.vector_layers.CircleMarker at 0x7f10fbb4a128>,\n",
       " <folium.vector_layers.CircleMarker at 0x7f10fbb4a160>,\n",
       " <folium.vector_layers.CircleMarker at 0x7f10fbb4a198>,\n",
       " <folium.vector_layers.CircleMarker at 0x7f10fbb4a1d0>,\n",
       " <folium.vector_layers.CircleMarker at 0x7f10fbb4a208>,\n",
       " <folium.vector_layers.CircleMarker at 0x7f10fbb4a240>,\n",
       " <folium.vector_layers.CircleMarker at 0x7f10fbb4a278>,\n",
       " <folium.vector_layers.CircleMarker at 0x7f10fbb4a2b0>,\n",
       " <folium.vector_layers.CircleMarker at 0x7f10fbb4a2e8>,\n",
       " <folium.vector_layers.CircleMarker at 0x7f10fbb4a320>,\n",
       " <folium.vector_layers.CircleMarker at 0x7f10fbb4a358>,\n",
       " <folium.vector_layers.CircleMarker at 0x7f10fbb4a390>,\n",
       " <folium.vector_layers.CircleMarker at 0x7f10fbb4a3c8>,\n",
       " <folium.vector_layers.CircleMarker at 0x7f10fbb4a400>,\n",
       " <folium.vector_layers.CircleMarker at 0x7f10fbb4a438>,\n",
       " <folium.vector_layers.CircleMarker at 0x7f10fbb4a470>,\n",
       " <folium.vector_layers.CircleMarker at 0x7f10fbb4a4a8>,\n",
       " <folium.vector_layers.CircleMarker at 0x7f10fbb4a4e0>,\n",
       " <folium.vector_layers.CircleMarker at 0x7f10fbb4a518>,\n",
       " <folium.vector_layers.CircleMarker at 0x7f10fbb4a550>,\n",
       " <folium.vector_layers.CircleMarker at 0x7f10fbb4a588>,\n",
       " <folium.vector_layers.CircleMarker at 0x7f10fbb4a5c0>,\n",
       " <folium.vector_layers.CircleMarker at 0x7f10fbb4a5f8>,\n",
       " <folium.vector_layers.CircleMarker at 0x7f10fbb4a630>,\n",
       " <folium.vector_layers.CircleMarker at 0x7f10fbb4a668>,\n",
       " <folium.vector_layers.CircleMarker at 0x7f10fbb4a6a0>,\n",
       " <folium.vector_layers.CircleMarker at 0x7f10fbb4a6d8>,\n",
       " <folium.vector_layers.CircleMarker at 0x7f10fbb4a710>,\n",
       " <folium.vector_layers.CircleMarker at 0x7f10fbb4a748>,\n",
       " <folium.vector_layers.CircleMarker at 0x7f10fbb4a780>,\n",
       " <folium.vector_layers.CircleMarker at 0x7f10fbb4a7b8>,\n",
       " <folium.vector_layers.CircleMarker at 0x7f10fbb4a7f0>,\n",
       " <folium.vector_layers.CircleMarker at 0x7f10fbb4a828>,\n",
       " <folium.vector_layers.CircleMarker at 0x7f10fbb4a860>,\n",
       " <folium.vector_layers.CircleMarker at 0x7f10fbb4a898>,\n",
       " <folium.vector_layers.CircleMarker at 0x7f10fbb4a8d0>,\n",
       " <folium.vector_layers.CircleMarker at 0x7f10fbb4a908>,\n",
       " <folium.vector_layers.CircleMarker at 0x7f10fbb4a940>,\n",
       " <folium.vector_layers.CircleMarker at 0x7f10fbb4a978>,\n",
       " <folium.vector_layers.CircleMarker at 0x7f10fbb4a9b0>,\n",
       " <folium.vector_layers.CircleMarker at 0x7f10fbb4a9e8>,\n",
       " <folium.vector_layers.CircleMarker at 0x7f10fbb4aa20>,\n",
       " <folium.vector_layers.CircleMarker at 0x7f10fbb4aa58>,\n",
       " <folium.vector_layers.CircleMarker at 0x7f10fbb4aa90>,\n",
       " <folium.vector_layers.CircleMarker at 0x7f10fbb4aac8>,\n",
       " <folium.vector_layers.CircleMarker at 0x7f10fbb4ab00>,\n",
       " <folium.vector_layers.CircleMarker at 0x7f10fbb4ab38>,\n",
       " <folium.vector_layers.CircleMarker at 0x7f10fbb4ab70>,\n",
       " <folium.vector_layers.CircleMarker at 0x7f10fbb4aba8>,\n",
       " <folium.vector_layers.CircleMarker at 0x7f10fbb4abe0>,\n",
       " <folium.vector_layers.CircleMarker at 0x7f10fbb4ac18>,\n",
       " <folium.vector_layers.CircleMarker at 0x7f10fbb4ac50>,\n",
       " <folium.vector_layers.CircleMarker at 0x7f10fbb4ac88>]"
      ]
     },
     "execution_count": 91,
     "metadata": {},
     "output_type": "execute_result"
    }
   ],
   "source": [
    "list(trip_markers) #and len(trip_markers) # 1000\n",
    "\n",
    "#list(map(lambda marker: marker.location, trip_markers[0:4]))\n",
    "# [[40.64499, -73.78115],\n",
    "#  [40.766931, -73.982098],\n",
    "#  [40.77773, -73.951902],\n",
    "#  [40.795678, -73.971049]]"
   ]
  },
  {
   "cell_type": "markdown",
   "metadata": {},
   "source": [
    "Ok, now that we have a function that creates locations, and a function that creates markers, it is time to write a function to plot a map. \n",
    "\n",
    "Write a function called `map_from` that, provided the first argument of a list location and second argument an integer representing the `zoom_start`, returns a `folium` map the corresponding location and `zoom_start` attributes.\n",
    "\n",
    "> Hint: The following is how to write a map with folium:\n",
    "> ```python \n",
    "    folium.Map(location=location, zoom_start=zoom_amount)\n",
    "> ```"
   ]
  },
  {
   "cell_type": "code",
   "execution_count": null,
   "metadata": {},
   "outputs": [],
   "source": [
    "def map_from(location, zoom_amount):\n",
    "    pass"
   ]
  },
  {
   "cell_type": "code",
   "execution_count": null,
   "metadata": {},
   "outputs": [],
   "source": [
    "times_square_map = map_from([40.7589, -73.9851], 15)\n",
    "times_square_map and times_square_map.location # [40.7589, -73.9851]\n",
    "times_square_map and times_square_map.zoom_start # 15"
   ]
  },
  {
   "cell_type": "code",
   "execution_count": null,
   "metadata": {
    "scrolled": true
   },
   "outputs": [],
   "source": [
    "times_square_marker and times_square_marker.add_to(times_square_map)\n",
    "times_square_map"
   ]
  },
  {
   "cell_type": "markdown",
   "metadata": {},
   "source": [
    "Now that we have a marker and a map, now let's write a function that adds a lot of markers to a map.  This function should add each marker in the list to the map object then return the updated map object."
   ]
  },
  {
   "cell_type": "code",
   "execution_count": null,
   "metadata": {},
   "outputs": [],
   "source": [
    "manhattan_map = map_from([40.7589, -73.9851], 13)"
   ]
  },
  {
   "cell_type": "code",
   "execution_count": null,
   "metadata": {},
   "outputs": [],
   "source": [
    "def add_markers(markers, map_obj):\n",
    "    pass"
   ]
  },
  {
   "cell_type": "code",
   "execution_count": null,
   "metadata": {
    "scrolled": false
   },
   "outputs": [],
   "source": [
    "map_with_markers = add_markers(trip_markers, manhattan_map)"
   ]
  },
  {
   "cell_type": "code",
   "execution_count": null,
   "metadata": {},
   "outputs": [],
   "source": [
    "map_with_markers"
   ]
  },
  {
   "cell_type": "markdown",
   "metadata": {},
   "source": [
    "### Using Nearest Neighbors"
   ]
  },
  {
   "cell_type": "markdown",
   "metadata": {},
   "source": [
    "Ok, let's write a function that given a latitude and longitude will predict the distance for us.  We'll do this by first finding the nearest trips given a latitude and longitude. "
   ]
  },
  {
   "cell_type": "markdown",
   "metadata": {},
   "source": [
    "Here we once again apply the nearest neighbors formula. As a first step, write a function named `distance_location` that calculates the distance in pickup location between two trips."
   ]
  },
  {
   "cell_type": "code",
   "execution_count": null,
   "metadata": {},
   "outputs": [],
   "source": [
    "import math\n",
    "\n",
    "def distance_location(selected_trip, neighbor_trip):\n",
    "    pass"
   ]
  },
  {
   "cell_type": "code",
   "execution_count": null,
   "metadata": {},
   "outputs": [],
   "source": [
    "first_trip = {'pickup_latitude': 40.64499, 'pickup_longitude': -73.78115, 'trip_distance': 18.38}\n",
    "second_trip = {'pickup_latitude': 40.766931, 'pickup_longitude': -73.982098, 'trip_distance': 1.3}\n",
    "distance_first_and_second = distance_location(first_trip, second_trip)\n",
    "\n",
    "distance_first_and_second and round(distance_first_and_second, 3) # 0.235"
   ]
  },
  {
   "cell_type": "markdown",
   "metadata": {},
   "source": [
    "Ok, next write a function called `distance_between_neighbors` that adds a new key-value pair, called `distance_from_selected`, that calculates the distance of the `neighbor_trip` from the `selected_trip`."
   ]
  },
  {
   "cell_type": "code",
   "execution_count": null,
   "metadata": {},
   "outputs": [],
   "source": [
    "def distance_between_neighbors(selected_trip, neighbor_trip):\n",
    "    pass"
   ]
  },
  {
   "cell_type": "code",
   "execution_count": null,
   "metadata": {},
   "outputs": [],
   "source": [
    "distance_between_neighbors(first_trip, second_trip)\n",
    "\n",
    "# {'distance_from_selected': 0.23505256047318146,\n",
    "#  'pickup_latitude': 40.766931,\n",
    "#  'pickup_longitude': -73.982098,\n",
    "#  'trip_distance': 1.3}"
   ]
  },
  {
   "cell_type": "markdown",
   "metadata": {},
   "source": [
    "Ok, now our `neighbor_trip` has another attribute called `distance_from_selected`, that indicates the distance from the `neighbor_trip`'s pickup location from the `selected_trip`."
   ]
  },
  {
   "cell_type": "markdown",
   "metadata": {},
   "source": [
    "> ** Understand the data:** Our dictionary now has a few attributes, two of which say distance.  Let's make sure we understand the difference. \n",
    "> * **`distance_from_selected`:** This is our calculation of the distance of the neighbor's pickup location from the selected trip.\n",
    "> * **`trip_distance`:** This is the attribute we were provided initially.  It tells us the length of the neighbor's taxi trip from pickup to drop-off.  "
   ]
  },
  {
   "cell_type": "markdown",
   "metadata": {},
   "source": [
    "Next, write a function called `distance_all` that provided a list of neighbors, returns each of those neighbors with their respective `distance_from_selected` numbers."
   ]
  },
  {
   "cell_type": "code",
   "execution_count": null,
   "metadata": {},
   "outputs": [],
   "source": [
    "def distance_all(selected_individual, neighbors):\n",
    "    pass"
   ]
  },
  {
   "cell_type": "code",
   "execution_count": null,
   "metadata": {},
   "outputs": [],
   "source": [
    "cleaned_trips and distance_all(first_trip, cleaned_trips[0:4])"
   ]
  },
  {
   "cell_type": "markdown",
   "metadata": {},
   "source": [
    "Now write the nearest neighbors formula to calculate the distance of the `selected_trip` from all of the `cleaned_trips` in our dataset.  If no number is provided, it should return the top 3 neighbors."
   ]
  },
  {
   "cell_type": "code",
   "execution_count": null,
   "metadata": {},
   "outputs": [],
   "source": [
    "def nearest_neighbors(selected_trip, trips, number = 3):\n",
    "    pass"
   ]
  },
  {
   "cell_type": "code",
   "execution_count": null,
   "metadata": {},
   "outputs": [],
   "source": [
    "new_trip = {'pickup_latitude': 40.64499,\n",
    "'pickup_longitude': -73.78115,\n",
    "'trip_distance': 18.38}\n",
    "\n",
    "nearest_three_neighbors = nearest_neighbors(new_trip, cleaned_trips or [], number = 3)\n",
    "nearest_three_neighbors\n",
    "# [{'distance_from_selected': 0.0004569288784918792,\n",
    "#   'pickup_latitude': 40.64483,\n",
    "#   'pickup_longitude': -73.781578,\n",
    "#   'trip_distance': 7.78},\n",
    "#  {'distance_from_selected': 0.0011292165425673159,\n",
    "#   'pickup_latitude': 40.644657,\n",
    "#   'pickup_longitude': -73.782229,\n",
    "#   'trip_distance': 12.7},\n",
    "#  {'distance_from_selected': 0.0042359798158141185,\n",
    "#   'pickup_latitude': 40.648509,\n",
    "#   'pickup_longitude': -73.783508,\n",
    "#   'trip_distance': 17.3}]"
   ]
  },
  {
   "cell_type": "markdown",
   "metadata": {},
   "source": [
    "Ok great! Now that we can provide a new trip location, and find the distances of the three nearest trips, we can take  calculate an estimate of the trip distance for that new trip location.  \n",
    "\n",
    "We do so simply by calculating the average of it's nearest neighbors."
   ]
  },
  {
   "cell_type": "code",
   "execution_count": null,
   "metadata": {},
   "outputs": [],
   "source": [
    "import statistics\n",
    "def mean_distance(neighbors):\n",
    "    nearest_distances = list(map(lambda neighbor: neighbor['trip_distance'], neighbors))\n",
    "    return round(statistics.mean(nearest_distances), 3)\n",
    "\n",
    "nearest_three_neighbors = nearest_neighbors(new_trip, cleaned_trips or [], number = 3)\n",
    "distance_estimate_of_selected_trip = mean_distance(nearest_three_neighbors) # 12.593\n",
    "distance_estimate_of_selected_trip"
   ]
  },
  {
   "cell_type": "markdown",
   "metadata": {},
   "source": [
    "### Choosing the correct number of neighbors"
   ]
  },
  {
   "cell_type": "markdown",
   "metadata": {},
   "source": [
    "Now, as we know from the last lesson, one tricky element is to determine how many neighbors to choose, our $k$ value,  before calculating the average.  We want to choose our value of $k$ such that it properly matches actual data, and so that it applies to new data.  There are fancy formulas to ensure that we **train** our algorithm so that our formula is optimized for all data, but here let's see different $k$ values manually.  This is the gist of choosing our $k$ value:\n",
    "\n",
    "* If we choose a $k$ value too low, our formula will be too heavily influenced by a single neighbor, whereas if our $k$ value is too high, we will be choosing so many neighbors that our nearest neighbors formula will not be adjust enough according to locations.\n",
    "\n",
    "Ok, let's experiment with this."
   ]
  },
  {
   "cell_type": "markdown",
   "metadata": {},
   "source": [
    "First, let's choose a midtown location, to see what the trip distance would be.  A Google search reveals the coordinates of 51st and 7th avenue to be the following."
   ]
  },
  {
   "cell_type": "code",
   "execution_count": null,
   "metadata": {},
   "outputs": [],
   "source": [
    "midtown_trip = dict(pickup_latitude=40.761710, pickup_longitude=-73.982760)"
   ]
  },
  {
   "cell_type": "code",
   "execution_count": null,
   "metadata": {},
   "outputs": [],
   "source": [
    "seven_closest = nearest_neighbors(midtown_trip, cleaned_trips, number = 7)\n",
    "seven_closest\n",
    "# [{'trip_distance': 0.58,\n",
    "#   'pickup_latitude': 40.761372,\n",
    "#   'pickup_longitude': -73.982602,\n",
    "#   'distance_from_selected': 0.00037310588309379025},\n",
    "#  {'trip_distance': 0.8,\n",
    "#   'pickup_latitude': 40.762444,\n",
    "#   'pickup_longitude': -73.98244,\n",
    "#   'distance_from_selected': 0.00080072217404248},\n",
    "#  {'trip_distance': 1.4,\n",
    "#   'pickup_latitude': 40.762767,\n",
    "#   'pickup_longitude': -73.982293,\n",
    "#   'distance_from_selected': 0.0011555682584735844},\n",
    "#  {'trip_distance': 8.3,\n",
    "#   'pickup_latitude': 40.762868,\n",
    "#   'pickup_longitude': -73.983233,\n",
    "#   'distance_from_selected': 0.0012508768924205918},\n",
    "#  {'trip_distance': 1.26,\n",
    "#   'pickup_latitude': 40.760057,\n",
    "#   'pickup_longitude': -73.983502,\n",
    "#   'distance_from_selected': 0.0018118976240381972},\n",
    "#  {'trip_distance': 0.0,\n",
    "#   'pickup_latitude': 40.760644,\n",
    "#   'pickup_longitude': -73.984531,\n",
    "#   'distance_from_selected': 0.002067074502774709},\n",
    "#  {'trip_distance': 1.72,\n",
    "#   'pickup_latitude': 40.762107,\n",
    "#   'pickup_longitude': -73.98479,\n",
    "#   'distance_from_selected': 0.0020684557041472677}]"
   ]
  },
  {
   "cell_type": "markdown",
   "metadata": {},
   "source": [
    "Looking at the `distance_from_selected` it appears that our our trips are still fairly close to our selected trip.  Notice that most of the data is within a distance of .002 away, so going to the top 7 nearest neighbors didn't seem to give us neighbors too far from each other, which is a good sign.\n",
    "\n",
    "Still, it's hard to know what distance in latitude and longitude really look like, so let's map the data. "
   ]
  },
  {
   "cell_type": "code",
   "execution_count": null,
   "metadata": {},
   "outputs": [],
   "source": [
    "midtown_location = location(midtown_trip) # [40.76171, -73.98276]\n",
    "midtown_map = map_from(midtown_location, 16)\n",
    "closest_markers = markers_from_trips(seven_closest)\n",
    "\n",
    "add_markers(closest_markers, midtown_map)"
   ]
  },
  {
   "cell_type": "markdown",
   "metadata": {},
   "source": [
    "Ok.  These locations stay fairly close to our estimated location of 51st street and 7th Avenue.  So they could be a good estimate of a trip distance."
   ]
  },
  {
   "cell_type": "code",
   "execution_count": null,
   "metadata": {},
   "outputs": [],
   "source": [
    "mean_distance(seven_closest) # 2.009"
   ]
  },
  {
   "cell_type": "markdown",
   "metadata": {},
   "source": [
    "Ok, now let's try a different location"
   ]
  },
  {
   "cell_type": "code",
   "execution_count": null,
   "metadata": {},
   "outputs": [],
   "source": [
    "charging_bull_closest = nearest_neighbors({'pickup_latitude': 40.7049, 'pickup_longitude': -74.0137}, cleaned_trips, number = 12)"
   ]
  },
  {
   "cell_type": "code",
   "execution_count": null,
   "metadata": {
    "scrolled": true
   },
   "outputs": [],
   "source": [
    "mean_distance(charging_bull_closest) # 3.145"
   ]
  },
  {
   "cell_type": "markdown",
   "metadata": {},
   "source": [
    "Ok, so there appears to be a significant difference between choosing a location near Times Square versus choosing a location at Wall Street."
   ]
  },
  {
   "cell_type": "markdown",
   "metadata": {},
   "source": [
    "### Summary"
   ]
  },
  {
   "cell_type": "markdown",
   "metadata": {},
   "source": [
    "In this lab, we used the nearest neighbors function to predict the length of a taxi ride.  To do so, we selected a location, then found a number of taxi rides closest to that location, and finally took the average trip lengths of the nearest taxi rides to find an estimate of the new ride's trip length.  You can see that even with just a little bit of math and programming we can begin to make meaningful predictions with data."
   ]
  }
 ],
 "metadata": {
  "kernelspec": {
   "display_name": "Python 3",
   "language": "python",
   "name": "python3"
  },
  "language_info": {
   "codemirror_mode": {
    "name": "ipython",
    "version": 3
   },
   "file_extension": ".py",
   "mimetype": "text/x-python",
   "name": "python",
   "nbconvert_exporter": "python",
   "pygments_lexer": "ipython3",
   "version": "3.6.9"
  }
 },
 "nbformat": 4,
 "nbformat_minor": 2
}
